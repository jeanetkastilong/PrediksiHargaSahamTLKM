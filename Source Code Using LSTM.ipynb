{
 "cells": [
  {
   "cell_type": "markdown",
   "id": "b3429897",
   "metadata": {},
   "source": [
    "# Import Library"
   ]
  },
  {
   "cell_type": "markdown",
   "id": "7bf048e6",
   "metadata": {},
   "source": [
    "Library-library yang kami gunakan, sebagai berikut:"
   ]
  },
  {
   "cell_type": "code",
   "execution_count": 1,
   "id": "e6cc67a7",
   "metadata": {},
   "outputs": [
    {
     "name": "stderr",
     "output_type": "stream",
     "text": [
      "C:\\Users\\Lenovo\\anaconda3\\lib\\site-packages\\scipy\\__init__.py:146: UserWarning: A NumPy version >=1.16.5 and <1.23.0 is required for this version of SciPy (detected version 1.24.3\n",
      "  warnings.warn(f\"A NumPy version >={np_minversion} and <{np_maxversion}\"\n",
      "C:\\Users\\Lenovo\\AppData\\Local\\Temp\\ipykernel_11824\\3319097961.py:11: FutureWarning: The pandas.datetime class is deprecated and will be removed from pandas in a future version. Import from datetime module instead.\n",
      "  from pandas import datetime\n"
     ]
    }
   ],
   "source": [
    "import pandas as pd\n",
    "import numpy as np\n",
    "import os\n",
    "import matplotlib.pyplot as plt\n",
    "import tensorflow as tf\n",
    "import datetime as dt\n",
    "from sklearn import preprocessing\n",
    "import math\n",
    "import time\n",
    "from pandas import datetime\n",
    "%matplotlib inline\n",
    "from sklearn.model_selection import train_test_split\n",
    "from sklearn.model_selection import train_test_split\n",
    "from sklearn.metrics import mean_squared_error\n",
    "from sklearn.preprocessing import StandardScaler\n",
    "from sklearn.preprocessing import MinMaxScaler\n",
    "from tensorflow.keras.models import Sequential\n",
    "from tensorflow.keras.layers import Dense, Dropout, LSTM, SimpleRNN\n",
    "from tensorflow import keras\n",
    "from tensorflow.keras import layers"
   ]
  },
  {
   "cell_type": "markdown",
   "id": "390fc47f",
   "metadata": {},
   "source": [
    "Membuat display HTML dalam membuat judul pada codingan ini"
   ]
  },
  {
   "cell_type": "code",
   "execution_count": 2,
   "id": "1670902a",
   "metadata": {},
   "outputs": [
    {
     "name": "stderr",
     "output_type": "stream",
     "text": [
      "C:\\Users\\Lenovo\\AppData\\Local\\Temp\\ipykernel_11824\\2334636164.py:1: DeprecationWarning: Importing display from IPython.core.display is deprecated since IPython 7.14, please import from IPython display\n",
      "  from IPython.core.display import display, HTML\n"
     ]
    },
    {
     "data": {
      "text/html": [
       "<h1><center>Project LSTM Kelompok G</center></h1>"
      ],
      "text/plain": [
       "<IPython.core.display.HTML object>"
      ]
     },
     "metadata": {},
     "output_type": "display_data"
    }
   ],
   "source": [
    "from IPython.core.display import display, HTML\n",
    "\n",
    "display(HTML('<h1><center>Project LSTM Kelompok G</center></h1>'))"
   ]
  },
  {
   "cell_type": "markdown",
   "id": "8dc0bd59",
   "metadata": {},
   "source": [
    "# Masuk Pada Dataset"
   ]
  },
  {
   "cell_type": "markdown",
   "id": "4a2684a4",
   "metadata": {},
   "source": [
    "Memanggil dataset"
   ]
  },
  {
   "cell_type": "code",
   "execution_count": 3,
   "id": "a6609086",
   "metadata": {},
   "outputs": [
    {
     "data": {
      "text/plain": [
       "False"
      ]
     },
     "execution_count": 3,
     "metadata": {},
     "output_type": "execute_result"
    }
   ],
   "source": [
    "#Menginisialisasi dataset ke dalam variabel df\n",
    "df = pd.read_csv(\"TLK 2jan03-30des23.csv\")\n",
    "\n",
    "#Untuk mengetahui values dari dataset\n",
    "df.isnull().values.any()"
   ]
  },
  {
   "cell_type": "markdown",
   "id": "0be5b6ed",
   "metadata": {},
   "source": [
    "Menampilkan bagian atas dari dataset"
   ]
  },
  {
   "cell_type": "code",
   "execution_count": 4,
   "id": "bd1542d8",
   "metadata": {},
   "outputs": [
    {
     "data": {
      "text/html": [
       "<div>\n",
       "<style scoped>\n",
       "    .dataframe tbody tr th:only-of-type {\n",
       "        vertical-align: middle;\n",
       "    }\n",
       "\n",
       "    .dataframe tbody tr th {\n",
       "        vertical-align: top;\n",
       "    }\n",
       "\n",
       "    .dataframe thead th {\n",
       "        text-align: right;\n",
       "    }\n",
       "</style>\n",
       "<table border=\"1\" class=\"dataframe\">\n",
       "  <thead>\n",
       "    <tr style=\"text-align: right;\">\n",
       "      <th></th>\n",
       "      <th>Date</th>\n",
       "      <th>Open</th>\n",
       "      <th>High</th>\n",
       "      <th>Low</th>\n",
       "      <th>Close</th>\n",
       "      <th>Adj Close</th>\n",
       "      <th>Volume</th>\n",
       "    </tr>\n",
       "  </thead>\n",
       "  <tbody>\n",
       "    <tr>\n",
       "      <th>0</th>\n",
       "      <td>2002-12-31</td>\n",
       "      <td>4.180</td>\n",
       "      <td>4.255</td>\n",
       "      <td>4.180</td>\n",
       "      <td>4.245</td>\n",
       "      <td>1.965326</td>\n",
       "      <td>61200</td>\n",
       "    </tr>\n",
       "    <tr>\n",
       "      <th>1</th>\n",
       "      <td>2003-01-02</td>\n",
       "      <td>4.225</td>\n",
       "      <td>4.225</td>\n",
       "      <td>4.160</td>\n",
       "      <td>4.175</td>\n",
       "      <td>1.932918</td>\n",
       "      <td>204800</td>\n",
       "    </tr>\n",
       "    <tr>\n",
       "      <th>2</th>\n",
       "      <td>2003-01-03</td>\n",
       "      <td>4.190</td>\n",
       "      <td>4.225</td>\n",
       "      <td>4.190</td>\n",
       "      <td>4.205</td>\n",
       "      <td>1.946807</td>\n",
       "      <td>159000</td>\n",
       "    </tr>\n",
       "    <tr>\n",
       "      <th>3</th>\n",
       "      <td>2003-01-06</td>\n",
       "      <td>4.000</td>\n",
       "      <td>4.145</td>\n",
       "      <td>3.985</td>\n",
       "      <td>4.105</td>\n",
       "      <td>1.900510</td>\n",
       "      <td>675800</td>\n",
       "    </tr>\n",
       "    <tr>\n",
       "      <th>4</th>\n",
       "      <td>2003-01-07</td>\n",
       "      <td>3.985</td>\n",
       "      <td>3.995</td>\n",
       "      <td>3.945</td>\n",
       "      <td>3.970</td>\n",
       "      <td>1.838008</td>\n",
       "      <td>635400</td>\n",
       "    </tr>\n",
       "  </tbody>\n",
       "</table>\n",
       "</div>"
      ],
      "text/plain": [
       "         Date   Open   High    Low  Close  Adj Close  Volume\n",
       "0  2002-12-31  4.180  4.255  4.180  4.245   1.965326   61200\n",
       "1  2003-01-02  4.225  4.225  4.160  4.175   1.932918  204800\n",
       "2  2003-01-03  4.190  4.225  4.190  4.205   1.946807  159000\n",
       "3  2003-01-06  4.000  4.145  3.985  4.105   1.900510  675800\n",
       "4  2003-01-07  3.985  3.995  3.945  3.970   1.838008  635400"
      ]
     },
     "execution_count": 4,
     "metadata": {},
     "output_type": "execute_result"
    }
   ],
   "source": [
    "df.head()"
   ]
  },
  {
   "cell_type": "markdown",
   "id": "7d138d8f",
   "metadata": {},
   "source": [
    "# Eksplorasi Data"
   ]
  },
  {
   "cell_type": "markdown",
   "id": "85de1ff2",
   "metadata": {},
   "source": [
    "Merujuk ke df (dimana merupakan perwakilan dari objek dataframe pandas)"
   ]
  },
  {
   "cell_type": "code",
   "execution_count": 5,
   "id": "3136a508",
   "metadata": {},
   "outputs": [
    {
     "data": {
      "text/plain": [
       "pandas.core.frame.DataFrame"
      ]
     },
     "execution_count": 5,
     "metadata": {},
     "output_type": "execute_result"
    }
   ],
   "source": [
    "type(df)"
   ]
  },
  {
   "cell_type": "markdown",
   "id": "3d27b539",
   "metadata": {},
   "source": [
    "Mengecek apakah terdapat data null pada dataset/tidak"
   ]
  },
  {
   "cell_type": "code",
   "execution_count": 7,
   "id": "f913ecbc",
   "metadata": {},
   "outputs": [
    {
     "data": {
      "text/plain": [
       "Date         0\n",
       "Open         0\n",
       "High         0\n",
       "Low          0\n",
       "Close        0\n",
       "Adj Close    0\n",
       "Volume       0\n",
       "dtype: int64"
      ]
     },
     "execution_count": 7,
     "metadata": {},
     "output_type": "execute_result"
    }
   ],
   "source": [
    "df.isna().sum()"
   ]
  },
  {
   "cell_type": "markdown",
   "id": "b9bb3f03",
   "metadata": {},
   "source": [
    "Menghapus kolom yang tidak digunakan dengan menggunakan drop"
   ]
  },
  {
   "cell_type": "code",
   "execution_count": 8,
   "id": "f5d2255c",
   "metadata": {},
   "outputs": [],
   "source": [
    "df = df.drop(['Adj Close', 'Volume'], axis='columns')"
   ]
  },
  {
   "cell_type": "code",
   "execution_count": 9,
   "id": "b28d0f77",
   "metadata": {},
   "outputs": [
    {
     "data": {
      "text/html": [
       "<div>\n",
       "<style scoped>\n",
       "    .dataframe tbody tr th:only-of-type {\n",
       "        vertical-align: middle;\n",
       "    }\n",
       "\n",
       "    .dataframe tbody tr th {\n",
       "        vertical-align: top;\n",
       "    }\n",
       "\n",
       "    .dataframe thead th {\n",
       "        text-align: right;\n",
       "    }\n",
       "</style>\n",
       "<table border=\"1\" class=\"dataframe\">\n",
       "  <thead>\n",
       "    <tr style=\"text-align: right;\">\n",
       "      <th></th>\n",
       "      <th>Date</th>\n",
       "      <th>Open</th>\n",
       "      <th>High</th>\n",
       "      <th>Low</th>\n",
       "      <th>Close</th>\n",
       "    </tr>\n",
       "  </thead>\n",
       "  <tbody>\n",
       "    <tr>\n",
       "      <th>0</th>\n",
       "      <td>2002-12-31</td>\n",
       "      <td>4.180</td>\n",
       "      <td>4.255</td>\n",
       "      <td>4.180</td>\n",
       "      <td>4.245</td>\n",
       "    </tr>\n",
       "    <tr>\n",
       "      <th>1</th>\n",
       "      <td>2003-01-02</td>\n",
       "      <td>4.225</td>\n",
       "      <td>4.225</td>\n",
       "      <td>4.160</td>\n",
       "      <td>4.175</td>\n",
       "    </tr>\n",
       "    <tr>\n",
       "      <th>2</th>\n",
       "      <td>2003-01-03</td>\n",
       "      <td>4.190</td>\n",
       "      <td>4.225</td>\n",
       "      <td>4.190</td>\n",
       "      <td>4.205</td>\n",
       "    </tr>\n",
       "    <tr>\n",
       "      <th>3</th>\n",
       "      <td>2003-01-06</td>\n",
       "      <td>4.000</td>\n",
       "      <td>4.145</td>\n",
       "      <td>3.985</td>\n",
       "      <td>4.105</td>\n",
       "    </tr>\n",
       "    <tr>\n",
       "      <th>4</th>\n",
       "      <td>2003-01-07</td>\n",
       "      <td>3.985</td>\n",
       "      <td>3.995</td>\n",
       "      <td>3.945</td>\n",
       "      <td>3.970</td>\n",
       "    </tr>\n",
       "  </tbody>\n",
       "</table>\n",
       "</div>"
      ],
      "text/plain": [
       "         Date   Open   High    Low  Close\n",
       "0  2002-12-31  4.180  4.255  4.180  4.245\n",
       "1  2003-01-02  4.225  4.225  4.160  4.175\n",
       "2  2003-01-03  4.190  4.225  4.190  4.205\n",
       "3  2003-01-06  4.000  4.145  3.985  4.105\n",
       "4  2003-01-07  3.985  3.995  3.945  3.970"
      ]
     },
     "execution_count": 9,
     "metadata": {},
     "output_type": "execute_result"
    }
   ],
   "source": [
    "#Menampilkan head data setelah menghapus kolom 'Adj Close' dan 'Volume'\n",
    "df.head()"
   ]
  },
  {
   "cell_type": "markdown",
   "id": "5db9ca23",
   "metadata": {},
   "source": [
    "Menampilkan tipe data dari kolom dataset yang tersisa"
   ]
  },
  {
   "cell_type": "code",
   "execution_count": 10,
   "id": "117f18f7",
   "metadata": {},
   "outputs": [
    {
     "name": "stdout",
     "output_type": "stream",
     "text": [
      "Date      object\n",
      "Open     float64\n",
      "High     float64\n",
      "Low      float64\n",
      "Close    float64\n",
      "dtype: object\n"
     ]
    }
   ],
   "source": [
    "print(df.dtypes)"
   ]
  },
  {
   "cell_type": "code",
   "execution_count": 11,
   "id": "40db4f93",
   "metadata": {},
   "outputs": [
    {
     "data": {
      "text/html": [
       "<div>\n",
       "<style scoped>\n",
       "    .dataframe tbody tr th:only-of-type {\n",
       "        vertical-align: middle;\n",
       "    }\n",
       "\n",
       "    .dataframe tbody tr th {\n",
       "        vertical-align: top;\n",
       "    }\n",
       "\n",
       "    .dataframe thead th {\n",
       "        text-align: right;\n",
       "    }\n",
       "</style>\n",
       "<table border=\"1\" class=\"dataframe\">\n",
       "  <thead>\n",
       "    <tr style=\"text-align: right;\">\n",
       "      <th></th>\n",
       "      <th>Date</th>\n",
       "      <th>Open</th>\n",
       "      <th>High</th>\n",
       "      <th>Low</th>\n",
       "      <th>Close</th>\n",
       "    </tr>\n",
       "  </thead>\n",
       "  <tbody>\n",
       "    <tr>\n",
       "      <th>0</th>\n",
       "      <td>2002-12-31</td>\n",
       "      <td>4.180000</td>\n",
       "      <td>4.255000</td>\n",
       "      <td>4.180000</td>\n",
       "      <td>4.245000</td>\n",
       "    </tr>\n",
       "    <tr>\n",
       "      <th>1</th>\n",
       "      <td>2003-01-02</td>\n",
       "      <td>4.225000</td>\n",
       "      <td>4.225000</td>\n",
       "      <td>4.160000</td>\n",
       "      <td>4.175000</td>\n",
       "    </tr>\n",
       "    <tr>\n",
       "      <th>2</th>\n",
       "      <td>2003-01-03</td>\n",
       "      <td>4.190000</td>\n",
       "      <td>4.225000</td>\n",
       "      <td>4.190000</td>\n",
       "      <td>4.205000</td>\n",
       "    </tr>\n",
       "    <tr>\n",
       "      <th>3</th>\n",
       "      <td>2003-01-06</td>\n",
       "      <td>4.000000</td>\n",
       "      <td>4.145000</td>\n",
       "      <td>3.985000</td>\n",
       "      <td>4.105000</td>\n",
       "    </tr>\n",
       "    <tr>\n",
       "      <th>4</th>\n",
       "      <td>2003-01-07</td>\n",
       "      <td>3.985000</td>\n",
       "      <td>3.995000</td>\n",
       "      <td>3.945000</td>\n",
       "      <td>3.970000</td>\n",
       "    </tr>\n",
       "    <tr>\n",
       "      <th>...</th>\n",
       "      <td>...</td>\n",
       "      <td>...</td>\n",
       "      <td>...</td>\n",
       "      <td>...</td>\n",
       "      <td>...</td>\n",
       "    </tr>\n",
       "    <tr>\n",
       "      <th>5031</th>\n",
       "      <td>2022-12-23</td>\n",
       "      <td>23.879999</td>\n",
       "      <td>24.040001</td>\n",
       "      <td>23.770000</td>\n",
       "      <td>24.030001</td>\n",
       "    </tr>\n",
       "    <tr>\n",
       "      <th>5032</th>\n",
       "      <td>2022-12-27</td>\n",
       "      <td>24.129999</td>\n",
       "      <td>24.139999</td>\n",
       "      <td>23.850000</td>\n",
       "      <td>23.900000</td>\n",
       "    </tr>\n",
       "    <tr>\n",
       "      <th>5033</th>\n",
       "      <td>2022-12-28</td>\n",
       "      <td>23.650000</td>\n",
       "      <td>23.770000</td>\n",
       "      <td>23.309999</td>\n",
       "      <td>23.420000</td>\n",
       "    </tr>\n",
       "    <tr>\n",
       "      <th>5034</th>\n",
       "      <td>2022-12-29</td>\n",
       "      <td>23.990000</td>\n",
       "      <td>23.990000</td>\n",
       "      <td>23.500000</td>\n",
       "      <td>23.680000</td>\n",
       "    </tr>\n",
       "    <tr>\n",
       "      <th>5035</th>\n",
       "      <td>2022-12-30</td>\n",
       "      <td>23.840000</td>\n",
       "      <td>23.889999</td>\n",
       "      <td>23.629999</td>\n",
       "      <td>23.850000</td>\n",
       "    </tr>\n",
       "  </tbody>\n",
       "</table>\n",
       "<p>5036 rows × 5 columns</p>\n",
       "</div>"
      ],
      "text/plain": [
       "            Date       Open       High        Low      Close\n",
       "0     2002-12-31   4.180000   4.255000   4.180000   4.245000\n",
       "1     2003-01-02   4.225000   4.225000   4.160000   4.175000\n",
       "2     2003-01-03   4.190000   4.225000   4.190000   4.205000\n",
       "3     2003-01-06   4.000000   4.145000   3.985000   4.105000\n",
       "4     2003-01-07   3.985000   3.995000   3.945000   3.970000\n",
       "...          ...        ...        ...        ...        ...\n",
       "5031  2022-12-23  23.879999  24.040001  23.770000  24.030001\n",
       "5032  2022-12-27  24.129999  24.139999  23.850000  23.900000\n",
       "5033  2022-12-28  23.650000  23.770000  23.309999  23.420000\n",
       "5034  2022-12-29  23.990000  23.990000  23.500000  23.680000\n",
       "5035  2022-12-30  23.840000  23.889999  23.629999  23.850000\n",
       "\n",
       "[5036 rows x 5 columns]"
      ]
     },
     "execution_count": 11,
     "metadata": {},
     "output_type": "execute_result"
    }
   ],
   "source": [
    "df"
   ]
  },
  {
   "cell_type": "markdown",
   "id": "989e95cd",
   "metadata": {},
   "source": [
    "Mengubah tanggal menjadi index"
   ]
  },
  {
   "cell_type": "code",
   "execution_count": 12,
   "id": "6580cdfb",
   "metadata": {},
   "outputs": [
    {
     "data": {
      "text/plain": [
       "DatetimeIndex(['2002-12-31', '2003-01-02', '2003-01-03', '2003-01-06',\n",
       "               '2003-01-07', '2003-01-08', '2003-01-09', '2003-01-10',\n",
       "               '2003-01-13', '2003-01-14',\n",
       "               ...\n",
       "               '2022-12-16', '2022-12-19', '2022-12-20', '2022-12-21',\n",
       "               '2022-12-22', '2022-12-23', '2022-12-27', '2022-12-28',\n",
       "               '2022-12-29', '2022-12-30'],\n",
       "              dtype='datetime64[ns]', name='Date', length=5036, freq=None)"
      ]
     },
     "execution_count": 12,
     "metadata": {},
     "output_type": "execute_result"
    }
   ],
   "source": [
    "con = df['Date']\n",
    "df['Date'] = pd.to_datetime(df['Date'])\n",
    "df.set_index('Date', inplace=True)\n",
    "\n",
    "#check datatype of index\n",
    "df.index"
   ]
  },
  {
   "cell_type": "code",
   "execution_count": 13,
   "id": "3c86b346",
   "metadata": {},
   "outputs": [
    {
     "data": {
      "text/html": [
       "<div>\n",
       "<style scoped>\n",
       "    .dataframe tbody tr th:only-of-type {\n",
       "        vertical-align: middle;\n",
       "    }\n",
       "\n",
       "    .dataframe tbody tr th {\n",
       "        vertical-align: top;\n",
       "    }\n",
       "\n",
       "    .dataframe thead th {\n",
       "        text-align: right;\n",
       "    }\n",
       "</style>\n",
       "<table border=\"1\" class=\"dataframe\">\n",
       "  <thead>\n",
       "    <tr style=\"text-align: right;\">\n",
       "      <th></th>\n",
       "      <th>Open</th>\n",
       "      <th>High</th>\n",
       "      <th>Low</th>\n",
       "      <th>Close</th>\n",
       "    </tr>\n",
       "    <tr>\n",
       "      <th>Date</th>\n",
       "      <th></th>\n",
       "      <th></th>\n",
       "      <th></th>\n",
       "      <th></th>\n",
       "    </tr>\n",
       "  </thead>\n",
       "  <tbody>\n",
       "    <tr>\n",
       "      <th>2002-12-31</th>\n",
       "      <td>4.180000</td>\n",
       "      <td>4.255000</td>\n",
       "      <td>4.180000</td>\n",
       "      <td>4.245000</td>\n",
       "    </tr>\n",
       "    <tr>\n",
       "      <th>2003-01-02</th>\n",
       "      <td>4.225000</td>\n",
       "      <td>4.225000</td>\n",
       "      <td>4.160000</td>\n",
       "      <td>4.175000</td>\n",
       "    </tr>\n",
       "    <tr>\n",
       "      <th>2003-01-03</th>\n",
       "      <td>4.190000</td>\n",
       "      <td>4.225000</td>\n",
       "      <td>4.190000</td>\n",
       "      <td>4.205000</td>\n",
       "    </tr>\n",
       "    <tr>\n",
       "      <th>2003-01-06</th>\n",
       "      <td>4.000000</td>\n",
       "      <td>4.145000</td>\n",
       "      <td>3.985000</td>\n",
       "      <td>4.105000</td>\n",
       "    </tr>\n",
       "    <tr>\n",
       "      <th>2003-01-07</th>\n",
       "      <td>3.985000</td>\n",
       "      <td>3.995000</td>\n",
       "      <td>3.945000</td>\n",
       "      <td>3.970000</td>\n",
       "    </tr>\n",
       "    <tr>\n",
       "      <th>...</th>\n",
       "      <td>...</td>\n",
       "      <td>...</td>\n",
       "      <td>...</td>\n",
       "      <td>...</td>\n",
       "    </tr>\n",
       "    <tr>\n",
       "      <th>2022-12-23</th>\n",
       "      <td>23.879999</td>\n",
       "      <td>24.040001</td>\n",
       "      <td>23.770000</td>\n",
       "      <td>24.030001</td>\n",
       "    </tr>\n",
       "    <tr>\n",
       "      <th>2022-12-27</th>\n",
       "      <td>24.129999</td>\n",
       "      <td>24.139999</td>\n",
       "      <td>23.850000</td>\n",
       "      <td>23.900000</td>\n",
       "    </tr>\n",
       "    <tr>\n",
       "      <th>2022-12-28</th>\n",
       "      <td>23.650000</td>\n",
       "      <td>23.770000</td>\n",
       "      <td>23.309999</td>\n",
       "      <td>23.420000</td>\n",
       "    </tr>\n",
       "    <tr>\n",
       "      <th>2022-12-29</th>\n",
       "      <td>23.990000</td>\n",
       "      <td>23.990000</td>\n",
       "      <td>23.500000</td>\n",
       "      <td>23.680000</td>\n",
       "    </tr>\n",
       "    <tr>\n",
       "      <th>2022-12-30</th>\n",
       "      <td>23.840000</td>\n",
       "      <td>23.889999</td>\n",
       "      <td>23.629999</td>\n",
       "      <td>23.850000</td>\n",
       "    </tr>\n",
       "  </tbody>\n",
       "</table>\n",
       "<p>5036 rows × 4 columns</p>\n",
       "</div>"
      ],
      "text/plain": [
       "                 Open       High        Low      Close\n",
       "Date                                                  \n",
       "2002-12-31   4.180000   4.255000   4.180000   4.245000\n",
       "2003-01-02   4.225000   4.225000   4.160000   4.175000\n",
       "2003-01-03   4.190000   4.225000   4.190000   4.205000\n",
       "2003-01-06   4.000000   4.145000   3.985000   4.105000\n",
       "2003-01-07   3.985000   3.995000   3.945000   3.970000\n",
       "...               ...        ...        ...        ...\n",
       "2022-12-23  23.879999  24.040001  23.770000  24.030001\n",
       "2022-12-27  24.129999  24.139999  23.850000  23.900000\n",
       "2022-12-28  23.650000  23.770000  23.309999  23.420000\n",
       "2022-12-29  23.990000  23.990000  23.500000  23.680000\n",
       "2022-12-30  23.840000  23.889999  23.629999  23.850000\n",
       "\n",
       "[5036 rows x 4 columns]"
      ]
     },
     "execution_count": 13,
     "metadata": {},
     "output_type": "execute_result"
    }
   ],
   "source": [
    "df"
   ]
  },
  {
   "cell_type": "markdown",
   "id": "d5c39492",
   "metadata": {},
   "source": [
    "Menginisialkan variable data time series"
   ]
  },
  {
   "cell_type": "code",
   "execution_count": 14,
   "id": "ec3ded99",
   "metadata": {},
   "outputs": [],
   "source": [
    "hg = pd.Series(df['High'])\n",
    "op = pd.Series(df['Open'])\n",
    "lw = pd.Series(df['Low'])\n",
    "cl = pd.Series(df['Close'])"
   ]
  },
  {
   "cell_type": "markdown",
   "id": "1b05c120",
   "metadata": {},
   "source": [
    "# Visualization Data"
   ]
  },
  {
   "cell_type": "markdown",
   "id": "36563e2c",
   "metadata": {},
   "source": [
    "Menampilkan visualisasi data dari kolom yang tidak di drop sebelumnya"
   ]
  },
  {
   "cell_type": "code",
   "execution_count": 15,
   "id": "080abe23",
   "metadata": {},
   "outputs": [
    {
     "data": {
      "image/png": "[encoded data removed]",
      "text/plain": [
       "<Figure size 1152x576 with 1 Axes>"
      ]
     },
     "metadata": {
      "needs_background": "light"
     },
     "output_type": "display_data"
    }
   ],
   "source": [
    "#Visualisasi Dataset\n",
    "\n",
    "plt.figure(figsize=(16,8))\n",
    "plt.title('Price Movement')\n",
    "plt.plot(hg, color = 'red', label = 'High')\n",
    "plt.plot(op, color = 'yellow', label = 'Open')\n",
    "plt.plot(lw, color = 'green', label = 'Low')\n",
    "plt.plot(cl, color = 'purple', label = 'Close')\n",
    "plt.xlabel('Date', fontsize=18)\n",
    "plt.ylabel('Price in Rp', fontsize=18)\n",
    "plt.legend(loc='best')\n",
    "plt.show()"
   ]
  },
  {
   "cell_type": "markdown",
   "id": "8c7c2323",
   "metadata": {},
   "source": [
    "Membuat data frame dari kolom 'High' dan membuat data train & test"
   ]
  },
  {
   "cell_type": "code",
   "execution_count": 16,
   "id": "757854d9",
   "metadata": {},
   "outputs": [],
   "source": [
    "data = pd.DataFrame(df['High'])"
   ]
  },
  {
   "cell_type": "code",
   "execution_count": 17,
   "id": "7cb5828d",
   "metadata": {},
   "outputs": [
    {
     "data": {
      "image/png": "[encoded data removed]",
      "text/plain": [
       "<Figure size 1152x576 with 1 Axes>"
      ]
     },
     "metadata": {
      "needs_background": "light"
     },
     "output_type": "display_data"
    }
   ],
   "source": [
    "df_train = data[0:int(len(data)*0.8)]\n",
    "df_test = data[int(len(data)*0.8):]\n",
    "# plot the data\n",
    "# Visualisasi data\n",
    "plt.figure(figsize=(16,8))\n",
    "plt.title('Data Train dan Data Test')\n",
    "plt.ylabel('High Price', fontsize=18)\n",
    "plt.plot(df_train)\n",
    "plt.plot(df_test)\n",
    "plt.legend(['Data Train', 'Data Test'], loc='lower right')\n",
    "plt.show()"
   ]
  },
  {
   "cell_type": "markdown",
   "id": "9e95b825",
   "metadata": {},
   "source": [
    "# Preprocessing"
   ]
  },
  {
   "cell_type": "markdown",
   "id": "7e0955ce",
   "metadata": {},
   "source": [
    "Melakukan scaling data (menggunakan kolom High)"
   ]
  },
  {
   "cell_type": "code",
   "execution_count": 629,
   "id": "bfb077f8",
   "metadata": {},
   "outputs": [],
   "source": [
    "min_max_scaler = preprocessing.MinMaxScaler(feature_range=(0, 1))\n",
    "dataset = min_max_scaler.fit_transform(df['High'].values.reshape(-1, 1))"
   ]
  },
  {
   "cell_type": "markdown",
   "id": "bc2aed11",
   "metadata": {},
   "source": [
    "Membagi data menjadi data train dan data test"
   ]
  },
  {
   "cell_type": "code",
   "execution_count": 630,
   "id": "c1db88fc",
   "metadata": {},
   "outputs": [
    {
     "data": {
      "text/plain": [
       "array([[0.01798893],\n",
       "       [0.01706642],\n",
       "       [0.01706642],\n",
       "       [0.0146064 ],\n",
       "       [0.00999385],\n",
       "       [0.0101476 ],\n",
       "       [0.0146064 ],\n",
       "       [0.0149139 ],\n",
       "       [0.01476015],\n",
       "       [0.01752768]])"
      ]
     },
     "execution_count": 630,
     "metadata": {},
     "output_type": "execute_result"
    }
   ],
   "source": [
    "dataset[0:10]"
   ]
  },
  {
   "cell_type": "code",
   "execution_count": 631,
   "id": "575e2588",
   "metadata": {},
   "outputs": [
    {
     "name": "stdout",
     "output_type": "stream",
     "text": [
      "4028 1008\n"
     ]
    }
   ],
   "source": [
    "train_size = int(len(dataset) * 0.8)\n",
    "test_size = len(dataset) - train_size\n",
    "train, test = dataset[0:train_size,:], dataset[train_size:len(dataset),:]\n",
    "print(len(train), len(test))"
   ]
  },
  {
   "cell_type": "code",
   "execution_count": 632,
   "id": "378fe376",
   "metadata": {},
   "outputs": [
    {
     "name": "stdout",
     "output_type": "stream",
     "text": [
      "5036\n"
     ]
    }
   ],
   "source": [
    "#Menampilkan panjang/jumlah dataframe\n",
    "print(len(df))"
   ]
  },
  {
   "cell_type": "markdown",
   "id": "53a111a9",
   "metadata": {},
   "source": [
    "Konversi value array kedalam dataset matriks"
   ]
  },
  {
   "cell_type": "code",
   "execution_count": 633,
   "id": "d2b04e3a",
   "metadata": {},
   "outputs": [],
   "source": [
    "def create_dataset(dataset, look_back=15):\n",
    "    x, y = [], []\n",
    "    for i in range(len(dataset)-look_back-1):\n",
    "        a = dataset[i:(i+look_back), 0]\n",
    "        x.append(a)\n",
    "        y.append(dataset[i + look_back, 0])\n",
    "    return np.array(x), np.array(y)"
   ]
  },
  {
   "cell_type": "code",
   "execution_count": 634,
   "id": "db646668",
   "metadata": {},
   "outputs": [],
   "source": [
    "look_back = 15\n",
    "x_train, y_train = create_dataset(train, look_back)\n",
    "x_test, y_test = create_dataset(test, look_back)"
   ]
  },
  {
   "cell_type": "code",
   "execution_count": 635,
   "id": "5952c643",
   "metadata": {},
   "outputs": [
    {
     "name": "stdout",
     "output_type": "stream",
     "text": [
      "(4012, 15)\n",
      "(4012,)\n",
      "(992, 15)\n",
      "(992,)\n"
     ]
    }
   ],
   "source": [
    "print(x_train.shape)\n",
    "print(y_train.shape)\n",
    "print(x_test.shape)\n",
    "print(y_test.shape)"
   ]
  },
  {
   "cell_type": "markdown",
   "id": "ef52d968",
   "metadata": {},
   "source": [
    "Reshape input menjadi 3D yaitu [samples, time step, dan feature]"
   ]
  },
  {
   "cell_type": "code",
   "execution_count": 636,
   "id": "7099cd73",
   "metadata": {},
   "outputs": [],
   "source": [
    "x_train = np.reshape(x_train, (x_train.shape[0], 1, x_train.shape[1]))\n",
    "x_test = np.reshape(x_test, (x_test.shape[0], 1, x_test.shape[1]))"
   ]
  },
  {
   "cell_type": "markdown",
   "id": "4a7c28a5",
   "metadata": {},
   "source": [
    "# Model\n",
    "\n",
    "Membuat model LSTM"
   ]
  },
  {
   "cell_type": "code",
   "execution_count": 637,
   "id": "043dfca2",
   "metadata": {},
   "outputs": [
    {
     "name": "stdout",
     "output_type": "stream",
     "text": [
      "Epoch 1/100\n",
      "63/63 - 3s - loss: 0.6912 - accuracy: 4.9850e-04 - val_loss: 0.6015 - val_accuracy: 0.0000e+00 - 3s/epoch - 55ms/step\n",
      "Epoch 2/100\n",
      "63/63 - 0s - loss: 0.5996 - accuracy: 4.9850e-04 - val_loss: 0.5962 - val_accuracy: 0.0000e+00 - 234ms/epoch - 4ms/step\n",
      "Epoch 3/100\n",
      "63/63 - 0s - loss: 0.5955 - accuracy: 4.9850e-04 - val_loss: 0.5937 - val_accuracy: 0.0000e+00 - 241ms/epoch - 4ms/step\n",
      "Epoch 4/100\n",
      "63/63 - 0s - loss: 0.5946 - accuracy: 4.9850e-04 - val_loss: 0.5934 - val_accuracy: 0.0000e+00 - 241ms/epoch - 4ms/step\n",
      "Epoch 5/100\n",
      "63/63 - 0s - loss: 0.5930 - accuracy: 4.9850e-04 - val_loss: 0.5931 - val_accuracy: 0.0000e+00 - 244ms/epoch - 4ms/step\n",
      "Epoch 6/100\n",
      "63/63 - 0s - loss: 0.5921 - accuracy: 4.9850e-04 - val_loss: 0.5924 - val_accuracy: 0.0000e+00 - 243ms/epoch - 4ms/step\n",
      "Epoch 7/100\n",
      "63/63 - 0s - loss: 0.5912 - accuracy: 4.9850e-04 - val_loss: 0.5927 - val_accuracy: 0.0000e+00 - 244ms/epoch - 4ms/step\n",
      "Epoch 8/100\n",
      "63/63 - 0s - loss: 0.5908 - accuracy: 4.9850e-04 - val_loss: 0.5919 - val_accuracy: 0.0000e+00 - 244ms/epoch - 4ms/step\n",
      "Epoch 9/100\n",
      "63/63 - 0s - loss: 0.5903 - accuracy: 4.9850e-04 - val_loss: 0.5918 - val_accuracy: 0.0000e+00 - 262ms/epoch - 4ms/step\n",
      "Epoch 10/100\n",
      "63/63 - 0s - loss: 0.5902 - accuracy: 4.9850e-04 - val_loss: 0.5917 - val_accuracy: 0.0000e+00 - 261ms/epoch - 4ms/step\n",
      "Epoch 11/100\n",
      "63/63 - 0s - loss: 0.5898 - accuracy: 4.9850e-04 - val_loss: 0.5916 - val_accuracy: 0.0000e+00 - 265ms/epoch - 4ms/step\n",
      "Epoch 12/100\n",
      "63/63 - 0s - loss: 0.5899 - accuracy: 4.9850e-04 - val_loss: 0.5921 - val_accuracy: 0.0000e+00 - 255ms/epoch - 4ms/step\n",
      "Epoch 13/100\n",
      "63/63 - 0s - loss: 0.5892 - accuracy: 4.9850e-04 - val_loss: 0.5924 - val_accuracy: 0.0000e+00 - 251ms/epoch - 4ms/step\n",
      "Epoch 14/100\n",
      "63/63 - 0s - loss: 0.5890 - accuracy: 4.9850e-04 - val_loss: 0.5923 - val_accuracy: 0.0000e+00 - 249ms/epoch - 4ms/step\n",
      "Epoch 15/100\n",
      "63/63 - 0s - loss: 0.5888 - accuracy: 4.9850e-04 - val_loss: 0.5921 - val_accuracy: 0.0000e+00 - 246ms/epoch - 4ms/step\n",
      "Epoch 16/100\n",
      "63/63 - 0s - loss: 0.5887 - accuracy: 4.9850e-04 - val_loss: 0.5916 - val_accuracy: 0.0000e+00 - 249ms/epoch - 4ms/step\n",
      "Epoch 17/100\n",
      "63/63 - 0s - loss: 0.5886 - accuracy: 4.9850e-04 - val_loss: 0.5913 - val_accuracy: 0.0000e+00 - 253ms/epoch - 4ms/step\n",
      "Epoch 18/100\n",
      "63/63 - 0s - loss: 0.5888 - accuracy: 4.9850e-04 - val_loss: 0.5922 - val_accuracy: 0.0000e+00 - 247ms/epoch - 4ms/step\n",
      "Epoch 19/100\n",
      "63/63 - 0s - loss: 0.5894 - accuracy: 4.9850e-04 - val_loss: 0.5921 - val_accuracy: 0.0000e+00 - 247ms/epoch - 4ms/step\n",
      "Epoch 20/100\n",
      "63/63 - 0s - loss: 0.5889 - accuracy: 4.9850e-04 - val_loss: 0.5961 - val_accuracy: 0.0000e+00 - 246ms/epoch - 4ms/step\n",
      "Epoch 21/100\n",
      "63/63 - 0s - loss: 0.5955 - accuracy: 4.9850e-04 - val_loss: 0.5955 - val_accuracy: 0.0000e+00 - 249ms/epoch - 4ms/step\n",
      "Epoch 22/100\n",
      "63/63 - 0s - loss: 0.5943 - accuracy: 4.9850e-04 - val_loss: 0.5920 - val_accuracy: 0.0000e+00 - 248ms/epoch - 4ms/step\n",
      "Epoch 23/100\n",
      "63/63 - 0s - loss: 0.5918 - accuracy: 4.9850e-04 - val_loss: 0.5921 - val_accuracy: 0.0000e+00 - 250ms/epoch - 4ms/step\n",
      "Epoch 24/100\n",
      "63/63 - 0s - loss: 0.5909 - accuracy: 4.9850e-04 - val_loss: 0.5922 - val_accuracy: 0.0000e+00 - 251ms/epoch - 4ms/step\n",
      "Epoch 25/100\n",
      "63/63 - 0s - loss: 0.5909 - accuracy: 4.9850e-04 - val_loss: 0.5915 - val_accuracy: 0.0000e+00 - 253ms/epoch - 4ms/step\n",
      "Epoch 26/100\n",
      "63/63 - 0s - loss: 0.5911 - accuracy: 4.9850e-04 - val_loss: 0.5937 - val_accuracy: 0.0000e+00 - 262ms/epoch - 4ms/step\n",
      "Epoch 27/100\n",
      "63/63 - 0s - loss: 0.5931 - accuracy: 4.9850e-04 - val_loss: 0.5926 - val_accuracy: 0.0000e+00 - 255ms/epoch - 4ms/step\n",
      "Epoch 28/100\n",
      "63/63 - 0s - loss: 0.5900 - accuracy: 4.9850e-04 - val_loss: 0.5917 - val_accuracy: 0.0000e+00 - 253ms/epoch - 4ms/step\n",
      "Epoch 29/100\n",
      "63/63 - 0s - loss: 0.5905 - accuracy: 4.9850e-04 - val_loss: 0.5913 - val_accuracy: 0.0000e+00 - 255ms/epoch - 4ms/step\n",
      "Epoch 30/100\n",
      "63/63 - 0s - loss: 0.5905 - accuracy: 4.9850e-04 - val_loss: 0.5923 - val_accuracy: 0.0000e+00 - 257ms/epoch - 4ms/step\n",
      "Epoch 31/100\n",
      "63/63 - 0s - loss: 0.5896 - accuracy: 4.9850e-04 - val_loss: 0.5916 - val_accuracy: 0.0000e+00 - 277ms/epoch - 4ms/step\n",
      "Epoch 32/100\n",
      "63/63 - 0s - loss: 0.5896 - accuracy: 4.9850e-04 - val_loss: 0.5913 - val_accuracy: 0.0000e+00 - 265ms/epoch - 4ms/step\n",
      "Epoch 33/100\n",
      "63/63 - 0s - loss: 0.5895 - accuracy: 4.9850e-04 - val_loss: 0.5914 - val_accuracy: 0.0000e+00 - 255ms/epoch - 4ms/step\n",
      "Epoch 34/100\n",
      "63/63 - 0s - loss: 0.5895 - accuracy: 4.9850e-04 - val_loss: 0.5913 - val_accuracy: 0.0000e+00 - 254ms/epoch - 4ms/step\n",
      "Epoch 35/100\n",
      "63/63 - 0s - loss: 0.5898 - accuracy: 4.9850e-04 - val_loss: 0.5918 - val_accuracy: 0.0000e+00 - 255ms/epoch - 4ms/step\n",
      "Epoch 36/100\n",
      "63/63 - 0s - loss: 0.5894 - accuracy: 4.9850e-04 - val_loss: 0.5911 - val_accuracy: 0.0000e+00 - 265ms/epoch - 4ms/step\n",
      "Epoch 37/100\n",
      "63/63 - 0s - loss: 0.5928 - accuracy: 4.9850e-04 - val_loss: 0.5968 - val_accuracy: 0.0000e+00 - 258ms/epoch - 4ms/step\n",
      "Epoch 38/100\n",
      "63/63 - 0s - loss: 0.6145 - accuracy: 4.9850e-04 - val_loss: 0.6166 - val_accuracy: 0.0000e+00 - 256ms/epoch - 4ms/step\n",
      "Epoch 39/100\n",
      "63/63 - 0s - loss: 0.6092 - accuracy: 4.9850e-04 - val_loss: 0.5935 - val_accuracy: 0.0000e+00 - 256ms/epoch - 4ms/step\n",
      "Epoch 40/100\n",
      "63/63 - 0s - loss: 0.5990 - accuracy: 4.9850e-04 - val_loss: 0.5920 - val_accuracy: 0.0000e+00 - 260ms/epoch - 4ms/step\n",
      "Epoch 41/100\n",
      "63/63 - 0s - loss: 0.5941 - accuracy: 4.9850e-04 - val_loss: 0.5941 - val_accuracy: 0.0000e+00 - 259ms/epoch - 4ms/step\n",
      "Epoch 42/100\n",
      "63/63 - 0s - loss: 0.5938 - accuracy: 4.9850e-04 - val_loss: 0.5911 - val_accuracy: 0.0000e+00 - 257ms/epoch - 4ms/step\n",
      "Epoch 43/100\n",
      "63/63 - 0s - loss: 0.6253 - accuracy: 4.9850e-04 - val_loss: 0.6144 - val_accuracy: 0.0000e+00 - 258ms/epoch - 4ms/step\n",
      "Epoch 44/100\n",
      "63/63 - 0s - loss: 0.6152 - accuracy: 4.9850e-04 - val_loss: 0.5941 - val_accuracy: 0.0000e+00 - 261ms/epoch - 4ms/step\n",
      "Epoch 45/100\n",
      "63/63 - 0s - loss: 0.6053 - accuracy: 4.9850e-04 - val_loss: 0.5926 - val_accuracy: 0.0000e+00 - 257ms/epoch - 4ms/step\n",
      "Epoch 46/100\n",
      "63/63 - 0s - loss: 0.6042 - accuracy: 4.9850e-04 - val_loss: 0.5922 - val_accuracy: 0.0000e+00 - 260ms/epoch - 4ms/step\n",
      "Epoch 47/100\n",
      "63/63 - 0s - loss: 0.5997 - accuracy: 4.9850e-04 - val_loss: 0.5918 - val_accuracy: 0.0000e+00 - 261ms/epoch - 4ms/step\n",
      "Epoch 48/100\n",
      "63/63 - 0s - loss: 0.5984 - accuracy: 4.9850e-04 - val_loss: 0.5930 - val_accuracy: 0.0000e+00 - 261ms/epoch - 4ms/step\n",
      "Epoch 49/100\n",
      "63/63 - 0s - loss: 0.6035 - accuracy: 4.9850e-04 - val_loss: 0.5969 - val_accuracy: 0.0000e+00 - 260ms/epoch - 4ms/step\n",
      "Epoch 50/100\n",
      "63/63 - 0s - loss: 0.5984 - accuracy: 4.9850e-04 - val_loss: 0.5916 - val_accuracy: 0.0000e+00 - 258ms/epoch - 4ms/step\n",
      "Epoch 51/100\n",
      "63/63 - 0s - loss: 0.6463 - accuracy: 4.9850e-04 - val_loss: 0.6031 - val_accuracy: 0.0000e+00 - 263ms/epoch - 4ms/step\n",
      "Epoch 52/100\n",
      "63/63 - 0s - loss: 0.6265 - accuracy: 4.9850e-04 - val_loss: 0.5948 - val_accuracy: 0.0000e+00 - 259ms/epoch - 4ms/step\n",
      "Epoch 53/100\n",
      "63/63 - 0s - loss: 0.6186 - accuracy: 4.9850e-04 - val_loss: 0.5923 - val_accuracy: 0.0000e+00 - 260ms/epoch - 4ms/step\n",
      "Epoch 54/100\n",
      "63/63 - 0s - loss: 0.6517 - accuracy: 4.9850e-04 - val_loss: 0.6288 - val_accuracy: 0.0000e+00 - 263ms/epoch - 4ms/step\n",
      "Epoch 55/100\n",
      "63/63 - 0s - loss: 0.6801 - accuracy: 4.9850e-04 - val_loss: 0.6293 - val_accuracy: 0.0000e+00 - 261ms/epoch - 4ms/step\n",
      "Epoch 56/100\n",
      "63/63 - 0s - loss: 0.6719 - accuracy: 4.9850e-04 - val_loss: 0.6391 - val_accuracy: 0.0000e+00 - 262ms/epoch - 4ms/step\n",
      "Epoch 57/100\n",
      "63/63 - 0s - loss: 0.6589 - accuracy: 4.9850e-04 - val_loss: 0.6424 - val_accuracy: 0.0000e+00 - 260ms/epoch - 4ms/step\n",
      "Epoch 58/100\n",
      "63/63 - 0s - loss: 0.6504 - accuracy: 4.9850e-04 - val_loss: 0.6419 - val_accuracy: 0.0000e+00 - 266ms/epoch - 4ms/step\n",
      "Epoch 59/100\n",
      "63/63 - 0s - loss: 0.6577 - accuracy: 4.9850e-04 - val_loss: 0.6504 - val_accuracy: 0.0000e+00 - 261ms/epoch - 4ms/step\n",
      "Epoch 60/100\n",
      "63/63 - 0s - loss: 0.6650 - accuracy: 4.9850e-04 - val_loss: 0.6480 - val_accuracy: 0.0000e+00 - 263ms/epoch - 4ms/step\n",
      "Epoch 61/100\n",
      "63/63 - 0s - loss: 0.6522 - accuracy: 4.9850e-04 - val_loss: 0.6543 - val_accuracy: 0.0000e+00 - 261ms/epoch - 4ms/step\n",
      "Epoch 62/100\n",
      "63/63 - 0s - loss: 0.6634 - accuracy: 4.9850e-04 - val_loss: 0.6541 - val_accuracy: 0.0000e+00 - 263ms/epoch - 4ms/step\n",
      "Epoch 63/100\n",
      "63/63 - 0s - loss: 0.6537 - accuracy: 4.9850e-04 - val_loss: 0.6198 - val_accuracy: 0.0000e+00 - 261ms/epoch - 4ms/step\n",
      "Epoch 64/100\n",
      "63/63 - 0s - loss: 0.6299 - accuracy: 4.9850e-04 - val_loss: 0.6190 - val_accuracy: 0.0000e+00 - 259ms/epoch - 4ms/step\n",
      "Epoch 65/100\n",
      "63/63 - 0s - loss: 0.6303 - accuracy: 4.9850e-04 - val_loss: 0.6088 - val_accuracy: 0.0000e+00 - 258ms/epoch - 4ms/step\n",
      "Epoch 66/100\n",
      "63/63 - 0s - loss: 0.6304 - accuracy: 4.9850e-04 - val_loss: 0.6085 - val_accuracy: 0.0000e+00 - 261ms/epoch - 4ms/step\n",
      "Epoch 67/100\n",
      "63/63 - 0s - loss: 0.6290 - accuracy: 4.9850e-04 - val_loss: 0.6032 - val_accuracy: 0.0000e+00 - 262ms/epoch - 4ms/step\n",
      "Epoch 68/100\n",
      "63/63 - 0s - loss: 0.6214 - accuracy: 4.9850e-04 - val_loss: 0.6055 - val_accuracy: 0.0000e+00 - 263ms/epoch - 4ms/step\n",
      "Epoch 69/100\n",
      "63/63 - 0s - loss: 0.6227 - accuracy: 4.9850e-04 - val_loss: 0.6050 - val_accuracy: 0.0000e+00 - 276ms/epoch - 4ms/step\n",
      "Epoch 70/100\n",
      "63/63 - 0s - loss: 0.6208 - accuracy: 4.9850e-04 - val_loss: 0.6033 - val_accuracy: 0.0000e+00 - 263ms/epoch - 4ms/step\n",
      "Epoch 71/100\n",
      "63/63 - 0s - loss: 0.6207 - accuracy: 4.9850e-04 - val_loss: 0.5980 - val_accuracy: 0.0000e+00 - 264ms/epoch - 4ms/step\n",
      "Epoch 72/100\n",
      "63/63 - 0s - loss: 0.6184 - accuracy: 4.9850e-04 - val_loss: 0.6091 - val_accuracy: 0.0000e+00 - 264ms/epoch - 4ms/step\n",
      "Epoch 73/100\n",
      "63/63 - 0s - loss: 0.6181 - accuracy: 4.9850e-04 - val_loss: 0.6026 - val_accuracy: 0.0000e+00 - 265ms/epoch - 4ms/step\n",
      "Epoch 74/100\n",
      "63/63 - 0s - loss: 0.6147 - accuracy: 4.9850e-04 - val_loss: 0.6049 - val_accuracy: 0.0000e+00 - 264ms/epoch - 4ms/step\n",
      "Epoch 75/100\n",
      "63/63 - 0s - loss: 0.6168 - accuracy: 4.9850e-04 - val_loss: 0.6026 - val_accuracy: 0.0000e+00 - 266ms/epoch - 4ms/step\n",
      "Epoch 76/100\n",
      "63/63 - 0s - loss: 0.6172 - accuracy: 4.9850e-04 - val_loss: 0.6029 - val_accuracy: 0.0000e+00 - 265ms/epoch - 4ms/step\n",
      "Epoch 77/100\n",
      "63/63 - 0s - loss: 0.6142 - accuracy: 4.9850e-04 - val_loss: 0.5999 - val_accuracy: 0.0000e+00 - 268ms/epoch - 4ms/step\n",
      "Epoch 78/100\n",
      "63/63 - 0s - loss: 0.6173 - accuracy: 4.9850e-04 - val_loss: 0.5997 - val_accuracy: 0.0000e+00 - 267ms/epoch - 4ms/step\n",
      "Epoch 79/100\n",
      "63/63 - 0s - loss: 0.6143 - accuracy: 4.9850e-04 - val_loss: 0.6015 - val_accuracy: 0.0000e+00 - 269ms/epoch - 4ms/step\n",
      "Epoch 80/100\n",
      "63/63 - 0s - loss: 0.6156 - accuracy: 4.9850e-04 - val_loss: 0.6006 - val_accuracy: 0.0000e+00 - 267ms/epoch - 4ms/step\n",
      "Epoch 81/100\n",
      "63/63 - 0s - loss: 0.6174 - accuracy: 4.9850e-04 - val_loss: 0.5993 - val_accuracy: 0.0000e+00 - 267ms/epoch - 4ms/step\n",
      "Epoch 82/100\n",
      "63/63 - 0s - loss: 0.6142 - accuracy: 4.9850e-04 - val_loss: 0.6026 - val_accuracy: 0.0000e+00 - 274ms/epoch - 4ms/step\n",
      "Epoch 83/100\n",
      "63/63 - 0s - loss: 0.6160 - accuracy: 4.9850e-04 - val_loss: 0.5991 - val_accuracy: 0.0000e+00 - 296ms/epoch - 5ms/step\n",
      "Epoch 84/100\n",
      "63/63 - 0s - loss: 0.6154 - accuracy: 4.9850e-04 - val_loss: 0.6035 - val_accuracy: 0.0000e+00 - 268ms/epoch - 4ms/step\n",
      "Epoch 85/100\n",
      "63/63 - 0s - loss: 0.6254 - accuracy: 4.9850e-04 - val_loss: 0.6204 - val_accuracy: 0.0000e+00 - 267ms/epoch - 4ms/step\n",
      "Epoch 86/100\n",
      "63/63 - 0s - loss: 0.6246 - accuracy: 4.9850e-04 - val_loss: 0.6017 - val_accuracy: 0.0000e+00 - 270ms/epoch - 4ms/step\n",
      "Epoch 87/100\n",
      "63/63 - 0s - loss: 0.6226 - accuracy: 4.9850e-04 - val_loss: 0.6034 - val_accuracy: 0.0000e+00 - 268ms/epoch - 4ms/step\n",
      "Epoch 88/100\n",
      "63/63 - 0s - loss: 0.6225 - accuracy: 4.9850e-04 - val_loss: 0.6021 - val_accuracy: 0.0000e+00 - 268ms/epoch - 4ms/step\n",
      "Epoch 89/100\n",
      "63/63 - 0s - loss: 0.6195 - accuracy: 4.9850e-04 - val_loss: 0.6044 - val_accuracy: 0.0000e+00 - 270ms/epoch - 4ms/step\n",
      "Epoch 90/100\n",
      "63/63 - 0s - loss: 0.6148 - accuracy: 4.9850e-04 - val_loss: 0.6026 - val_accuracy: 0.0000e+00 - 267ms/epoch - 4ms/step\n",
      "Epoch 91/100\n",
      "63/63 - 0s - loss: 0.6184 - accuracy: 4.9850e-04 - val_loss: 0.6044 - val_accuracy: 0.0000e+00 - 273ms/epoch - 4ms/step\n",
      "Epoch 92/100\n",
      "63/63 - 0s - loss: 0.6178 - accuracy: 4.9850e-04 - val_loss: 0.5993 - val_accuracy: 0.0000e+00 - 281ms/epoch - 4ms/step\n",
      "Epoch 93/100\n",
      "63/63 - 0s - loss: 0.6138 - accuracy: 4.9850e-04 - val_loss: 0.5984 - val_accuracy: 0.0000e+00 - 289ms/epoch - 5ms/step\n",
      "Epoch 94/100\n",
      "63/63 - 0s - loss: 0.6149 - accuracy: 4.9850e-04 - val_loss: 0.6238 - val_accuracy: 0.0000e+00 - 293ms/epoch - 5ms/step\n",
      "Epoch 95/100\n",
      "63/63 - 0s - loss: 0.6201 - accuracy: 4.9850e-04 - val_loss: 0.6029 - val_accuracy: 0.0000e+00 - 300ms/epoch - 5ms/step\n",
      "Epoch 96/100\n",
      "63/63 - 0s - loss: 0.6150 - accuracy: 4.9850e-04 - val_loss: 0.6024 - val_accuracy: 0.0000e+00 - 299ms/epoch - 5ms/step\n",
      "Epoch 97/100\n",
      "63/63 - 0s - loss: 0.6155 - accuracy: 4.9850e-04 - val_loss: 0.6065 - val_accuracy: 0.0000e+00 - 300ms/epoch - 5ms/step\n",
      "Epoch 98/100\n",
      "63/63 - 0s - loss: 0.6148 - accuracy: 4.9850e-04 - val_loss: 0.6006 - val_accuracy: 0.0000e+00 - 300ms/epoch - 5ms/step\n",
      "Epoch 99/100\n",
      "63/63 - 0s - loss: 0.6128 - accuracy: 4.9850e-04 - val_loss: 0.5979 - val_accuracy: 0.0000e+00 - 299ms/epoch - 5ms/step\n",
      "Epoch 100/100\n",
      "63/63 - 0s - loss: 0.6109 - accuracy: 4.9850e-04 - val_loss: 0.6022 - val_accuracy: 0.0000e+00 - 308ms/epoch - 5ms/step\n"
     ]
    }
   ],
   "source": [
    "look_back = 15\n",
    "\n",
    "model1 = Sequential()\n",
    "\n",
    "model1.add(LSTM(50, input_shape=(1, look_back), return_sequences=False))\n",
    "\n",
    "# Dropout to prevent overfitting\n",
    "model1.add(Dropout(0.5))\n",
    "\n",
    "# Dense layer for classification output\n",
    "model1.add(Dense(units=1, activation='tanh'))\n",
    "\n",
    "# Optimizing the neural network weights\n",
    "opt = tf.keras.optimizers.Adam(learning_rate=0.01)\n",
    "\n",
    "# Compiling the model with the optimizer\n",
    "model1.compile(loss='binary_crossentropy', optimizer=opt, metrics=['accuracy'])\n",
    "\n",
    "history = model1.fit(x_train, y_train, epochs=100, batch_size=64, verbose=2, validation_data=(x_test, y_test))\n"
   ]
  },
  {
   "cell_type": "code",
   "execution_count": 638,
   "id": "4224cfa3",
   "metadata": {},
   "outputs": [
    {
     "name": "stdout",
     "output_type": "stream",
     "text": [
      "Epoch 1/100\n",
      "63/63 - 3s - loss: 0.0096 - mse: 0.0096 - val_loss: 0.0043 - val_mse: 0.0043 - 3s/epoch - 51ms/step\n",
      "Epoch 2/100\n",
      "63/63 - 0s - loss: 0.0092 - mse: 0.0092 - val_loss: 0.0049 - val_mse: 0.0049 - 214ms/epoch - 3ms/step\n",
      "Epoch 3/100\n",
      "63/63 - 0s - loss: 0.0084 - mse: 0.0084 - val_loss: 0.0043 - val_mse: 0.0043 - 220ms/epoch - 3ms/step\n",
      "Epoch 4/100\n",
      "63/63 - 0s - loss: 0.0088 - mse: 0.0088 - val_loss: 0.0045 - val_mse: 0.0045 - 218ms/epoch - 3ms/step\n",
      "Epoch 5/100\n",
      "63/63 - 0s - loss: 0.0084 - mse: 0.0084 - val_loss: 0.0039 - val_mse: 0.0039 - 218ms/epoch - 3ms/step\n",
      "Epoch 6/100\n",
      "63/63 - 0s - loss: 0.0084 - mse: 0.0084 - val_loss: 0.0047 - val_mse: 0.0047 - 220ms/epoch - 3ms/step\n",
      "Epoch 7/100\n",
      "63/63 - 0s - loss: 0.0083 - mse: 0.0083 - val_loss: 0.0037 - val_mse: 0.0037 - 223ms/epoch - 4ms/step\n",
      "Epoch 8/100\n",
      "63/63 - 0s - loss: 0.0084 - mse: 0.0084 - val_loss: 0.0035 - val_mse: 0.0035 - 219ms/epoch - 3ms/step\n",
      "Epoch 9/100\n",
      "63/63 - 0s - loss: 0.0086 - mse: 0.0086 - val_loss: 0.0034 - val_mse: 0.0034 - 220ms/epoch - 3ms/step\n",
      "Epoch 10/100\n",
      "63/63 - 0s - loss: 0.0080 - mse: 0.0080 - val_loss: 0.0034 - val_mse: 0.0034 - 223ms/epoch - 4ms/step\n",
      "Epoch 11/100\n",
      "63/63 - 0s - loss: 0.0080 - mse: 0.0080 - val_loss: 0.0037 - val_mse: 0.0037 - 227ms/epoch - 4ms/step\n",
      "Epoch 12/100\n",
      "63/63 - 0s - loss: 0.0083 - mse: 0.0083 - val_loss: 0.0038 - val_mse: 0.0038 - 225ms/epoch - 4ms/step\n",
      "Epoch 13/100\n",
      "63/63 - 0s - loss: 0.0080 - mse: 0.0080 - val_loss: 0.0034 - val_mse: 0.0034 - 225ms/epoch - 4ms/step\n",
      "Epoch 14/100\n",
      "63/63 - 0s - loss: 0.0081 - mse: 0.0081 - val_loss: 0.0036 - val_mse: 0.0036 - 227ms/epoch - 4ms/step\n",
      "Epoch 15/100\n",
      "63/63 - 0s - loss: 0.0079 - mse: 0.0079 - val_loss: 0.0029 - val_mse: 0.0029 - 226ms/epoch - 4ms/step\n",
      "Epoch 16/100\n",
      "63/63 - 0s - loss: 0.0081 - mse: 0.0081 - val_loss: 0.0030 - val_mse: 0.0030 - 226ms/epoch - 4ms/step\n",
      "Epoch 17/100\n",
      "63/63 - 0s - loss: 0.0079 - mse: 0.0079 - val_loss: 0.0037 - val_mse: 0.0037 - 228ms/epoch - 4ms/step\n",
      "Epoch 18/100\n",
      "63/63 - 0s - loss: 0.0081 - mse: 0.0081 - val_loss: 0.0030 - val_mse: 0.0030 - 228ms/epoch - 4ms/step\n",
      "Epoch 19/100\n",
      "63/63 - 0s - loss: 0.0079 - mse: 0.0079 - val_loss: 0.0025 - val_mse: 0.0025 - 227ms/epoch - 4ms/step\n",
      "Epoch 20/100\n",
      "63/63 - 0s - loss: 0.0076 - mse: 0.0076 - val_loss: 0.0033 - val_mse: 0.0033 - 227ms/epoch - 4ms/step\n",
      "Epoch 21/100\n",
      "63/63 - 0s - loss: 0.0078 - mse: 0.0078 - val_loss: 0.0037 - val_mse: 0.0037 - 229ms/epoch - 4ms/step\n",
      "Epoch 22/100\n",
      "63/63 - 0s - loss: 0.0073 - mse: 0.0073 - val_loss: 0.0024 - val_mse: 0.0024 - 229ms/epoch - 4ms/step\n",
      "Epoch 23/100\n",
      "63/63 - 0s - loss: 0.0078 - mse: 0.0078 - val_loss: 0.0031 - val_mse: 0.0031 - 241ms/epoch - 4ms/step\n",
      "Epoch 24/100\n",
      "63/63 - 0s - loss: 0.0077 - mse: 0.0077 - val_loss: 0.0033 - val_mse: 0.0033 - 230ms/epoch - 4ms/step\n",
      "Epoch 25/100\n",
      "63/63 - 0s - loss: 0.0078 - mse: 0.0078 - val_loss: 0.0023 - val_mse: 0.0023 - 233ms/epoch - 4ms/step\n",
      "Epoch 26/100\n",
      "63/63 - 0s - loss: 0.0079 - mse: 0.0079 - val_loss: 0.0032 - val_mse: 0.0032 - 237ms/epoch - 4ms/step\n",
      "Epoch 27/100\n",
      "63/63 - 0s - loss: 0.0076 - mse: 0.0076 - val_loss: 0.0025 - val_mse: 0.0025 - 231ms/epoch - 4ms/step\n",
      "Epoch 28/100\n",
      "63/63 - 0s - loss: 0.0077 - mse: 0.0077 - val_loss: 0.0031 - val_mse: 0.0031 - 234ms/epoch - 4ms/step\n",
      "Epoch 29/100\n",
      "63/63 - 0s - loss: 0.0075 - mse: 0.0075 - val_loss: 0.0024 - val_mse: 0.0024 - 235ms/epoch - 4ms/step\n",
      "Epoch 30/100\n",
      "63/63 - 0s - loss: 0.0075 - mse: 0.0075 - val_loss: 0.0032 - val_mse: 0.0032 - 233ms/epoch - 4ms/step\n",
      "Epoch 31/100\n",
      "63/63 - 0s - loss: 0.0077 - mse: 0.0077 - val_loss: 0.0036 - val_mse: 0.0036 - 234ms/epoch - 4ms/step\n",
      "Epoch 32/100\n",
      "63/63 - 0s - loss: 0.0075 - mse: 0.0075 - val_loss: 0.0022 - val_mse: 0.0022 - 234ms/epoch - 4ms/step\n",
      "Epoch 33/100\n",
      "63/63 - 0s - loss: 0.0073 - mse: 0.0073 - val_loss: 0.0031 - val_mse: 0.0031 - 238ms/epoch - 4ms/step\n",
      "Epoch 34/100\n",
      "63/63 - 0s - loss: 0.0076 - mse: 0.0076 - val_loss: 0.0031 - val_mse: 0.0031 - 235ms/epoch - 4ms/step\n",
      "Epoch 35/100\n",
      "63/63 - 0s - loss: 0.0073 - mse: 0.0073 - val_loss: 0.0029 - val_mse: 0.0029 - 239ms/epoch - 4ms/step\n",
      "Epoch 36/100\n",
      "63/63 - 0s - loss: 0.0074 - mse: 0.0074 - val_loss: 0.0028 - val_mse: 0.0028 - 238ms/epoch - 4ms/step\n",
      "Epoch 37/100\n",
      "63/63 - 0s - loss: 0.0072 - mse: 0.0072 - val_loss: 0.0020 - val_mse: 0.0020 - 234ms/epoch - 4ms/step\n",
      "Epoch 38/100\n",
      "63/63 - 0s - loss: 0.0072 - mse: 0.0072 - val_loss: 0.0023 - val_mse: 0.0023 - 233ms/epoch - 4ms/step\n",
      "Epoch 39/100\n",
      "63/63 - 0s - loss: 0.0068 - mse: 0.0068 - val_loss: 0.0033 - val_mse: 0.0033 - 236ms/epoch - 4ms/step\n",
      "Epoch 40/100\n",
      "63/63 - 0s - loss: 0.0073 - mse: 0.0073 - val_loss: 0.0036 - val_mse: 0.0036 - 236ms/epoch - 4ms/step\n",
      "Epoch 41/100\n",
      "63/63 - 0s - loss: 0.0071 - mse: 0.0071 - val_loss: 0.0028 - val_mse: 0.0028 - 236ms/epoch - 4ms/step\n",
      "Epoch 42/100\n",
      "63/63 - 0s - loss: 0.0073 - mse: 0.0073 - val_loss: 0.0027 - val_mse: 0.0027 - 236ms/epoch - 4ms/step\n",
      "Epoch 43/100\n",
      "63/63 - 0s - loss: 0.0071 - mse: 0.0071 - val_loss: 0.0028 - val_mse: 0.0028 - 234ms/epoch - 4ms/step\n",
      "Epoch 44/100\n",
      "63/63 - 0s - loss: 0.0072 - mse: 0.0072 - val_loss: 0.0022 - val_mse: 0.0022 - 234ms/epoch - 4ms/step\n",
      "Epoch 45/100\n",
      "63/63 - 0s - loss: 0.0069 - mse: 0.0069 - val_loss: 0.0028 - val_mse: 0.0028 - 238ms/epoch - 4ms/step\n",
      "Epoch 46/100\n",
      "63/63 - 0s - loss: 0.0073 - mse: 0.0073 - val_loss: 0.0020 - val_mse: 0.0020 - 241ms/epoch - 4ms/step\n",
      "Epoch 47/100\n",
      "63/63 - 0s - loss: 0.0069 - mse: 0.0069 - val_loss: 0.0027 - val_mse: 0.0027 - 239ms/epoch - 4ms/step\n",
      "Epoch 48/100\n",
      "63/63 - 0s - loss: 0.0070 - mse: 0.0070 - val_loss: 0.0026 - val_mse: 0.0026 - 238ms/epoch - 4ms/step\n",
      "Epoch 49/100\n",
      "63/63 - 0s - loss: 0.0070 - mse: 0.0070 - val_loss: 0.0030 - val_mse: 0.0030 - 237ms/epoch - 4ms/step\n",
      "Epoch 50/100\n",
      "63/63 - 0s - loss: 0.0072 - mse: 0.0072 - val_loss: 0.0027 - val_mse: 0.0027 - 240ms/epoch - 4ms/step\n",
      "Epoch 51/100\n",
      "63/63 - 0s - loss: 0.0069 - mse: 0.0069 - val_loss: 0.0029 - val_mse: 0.0029 - 239ms/epoch - 4ms/step\n",
      "Epoch 52/100\n",
      "63/63 - 0s - loss: 0.0066 - mse: 0.0066 - val_loss: 0.0025 - val_mse: 0.0025 - 240ms/epoch - 4ms/step\n",
      "Epoch 53/100\n",
      "63/63 - 0s - loss: 0.0067 - mse: 0.0067 - val_loss: 0.0037 - val_mse: 0.0037 - 241ms/epoch - 4ms/step\n",
      "Epoch 54/100\n",
      "63/63 - 0s - loss: 0.0068 - mse: 0.0068 - val_loss: 0.0026 - val_mse: 0.0026 - 241ms/epoch - 4ms/step\n",
      "Epoch 55/100\n",
      "63/63 - 0s - loss: 0.0066 - mse: 0.0066 - val_loss: 0.0034 - val_mse: 0.0034 - 241ms/epoch - 4ms/step\n",
      "Epoch 56/100\n",
      "63/63 - 0s - loss: 0.0068 - mse: 0.0068 - val_loss: 0.0029 - val_mse: 0.0029 - 242ms/epoch - 4ms/step\n",
      "Epoch 57/100\n",
      "63/63 - 0s - loss: 0.0070 - mse: 0.0070 - val_loss: 0.0023 - val_mse: 0.0023 - 244ms/epoch - 4ms/step\n",
      "Epoch 58/100\n",
      "63/63 - 0s - loss: 0.0068 - mse: 0.0068 - val_loss: 0.0022 - val_mse: 0.0022 - 269ms/epoch - 4ms/step\n",
      "Epoch 59/100\n",
      "63/63 - 0s - loss: 0.0069 - mse: 0.0069 - val_loss: 0.0027 - val_mse: 0.0027 - 242ms/epoch - 4ms/step\n",
      "Epoch 60/100\n",
      "63/63 - 0s - loss: 0.0069 - mse: 0.0069 - val_loss: 0.0025 - val_mse: 0.0025 - 244ms/epoch - 4ms/step\n",
      "Epoch 61/100\n",
      "63/63 - 0s - loss: 0.0064 - mse: 0.0064 - val_loss: 0.0016 - val_mse: 0.0016 - 242ms/epoch - 4ms/step\n",
      "Epoch 62/100\n",
      "63/63 - 0s - loss: 0.0063 - mse: 0.0063 - val_loss: 0.0030 - val_mse: 0.0030 - 243ms/epoch - 4ms/step\n",
      "Epoch 63/100\n",
      "63/63 - 0s - loss: 0.0067 - mse: 0.0067 - val_loss: 0.0032 - val_mse: 0.0032 - 243ms/epoch - 4ms/step\n",
      "Epoch 64/100\n",
      "63/63 - 0s - loss: 0.0070 - mse: 0.0070 - val_loss: 0.0033 - val_mse: 0.0033 - 247ms/epoch - 4ms/step\n",
      "Epoch 65/100\n",
      "63/63 - 0s - loss: 0.0067 - mse: 0.0067 - val_loss: 0.0021 - val_mse: 0.0021 - 260ms/epoch - 4ms/step\n",
      "Epoch 66/100\n",
      "63/63 - 0s - loss: 0.0067 - mse: 0.0067 - val_loss: 0.0034 - val_mse: 0.0034 - 260ms/epoch - 4ms/step\n",
      "Epoch 67/100\n",
      "63/63 - 0s - loss: 0.0063 - mse: 0.0063 - val_loss: 0.0022 - val_mse: 0.0022 - 268ms/epoch - 4ms/step\n",
      "Epoch 68/100\n",
      "63/63 - 0s - loss: 0.0066 - mse: 0.0066 - val_loss: 0.0021 - val_mse: 0.0021 - 265ms/epoch - 4ms/step\n",
      "Epoch 69/100\n",
      "63/63 - 0s - loss: 0.0066 - mse: 0.0066 - val_loss: 0.0030 - val_mse: 0.0030 - 250ms/epoch - 4ms/step\n",
      "Epoch 70/100\n",
      "63/63 - 0s - loss: 0.0063 - mse: 0.0063 - val_loss: 0.0017 - val_mse: 0.0017 - 260ms/epoch - 4ms/step\n",
      "Epoch 71/100\n",
      "63/63 - 0s - loss: 0.0065 - mse: 0.0065 - val_loss: 0.0026 - val_mse: 0.0026 - 276ms/epoch - 4ms/step\n",
      "Epoch 72/100\n",
      "63/63 - 0s - loss: 0.0066 - mse: 0.0066 - val_loss: 0.0025 - val_mse: 0.0025 - 251ms/epoch - 4ms/step\n",
      "Epoch 73/100\n",
      "63/63 - 0s - loss: 0.0067 - mse: 0.0067 - val_loss: 0.0030 - val_mse: 0.0030 - 272ms/epoch - 4ms/step\n",
      "Epoch 74/100\n",
      "63/63 - 0s - loss: 0.0066 - mse: 0.0066 - val_loss: 0.0025 - val_mse: 0.0025 - 249ms/epoch - 4ms/step\n",
      "Epoch 75/100\n",
      "63/63 - 0s - loss: 0.0065 - mse: 0.0065 - val_loss: 0.0014 - val_mse: 0.0014 - 245ms/epoch - 4ms/step\n",
      "Epoch 76/100\n",
      "63/63 - 0s - loss: 0.0062 - mse: 0.0062 - val_loss: 0.0015 - val_mse: 0.0015 - 267ms/epoch - 4ms/step\n",
      "Epoch 77/100\n",
      "63/63 - 0s - loss: 0.0065 - mse: 0.0065 - val_loss: 0.0022 - val_mse: 0.0022 - 247ms/epoch - 4ms/step\n",
      "Epoch 78/100\n",
      "63/63 - 0s - loss: 0.0065 - mse: 0.0065 - val_loss: 0.0017 - val_mse: 0.0017 - 247ms/epoch - 4ms/step\n",
      "Epoch 79/100\n",
      "63/63 - 0s - loss: 0.0064 - mse: 0.0064 - val_loss: 0.0021 - val_mse: 0.0021 - 246ms/epoch - 4ms/step\n",
      "Epoch 80/100\n",
      "63/63 - 0s - loss: 0.0064 - mse: 0.0064 - val_loss: 0.0036 - val_mse: 0.0036 - 271ms/epoch - 4ms/step\n",
      "Epoch 81/100\n",
      "63/63 - 0s - loss: 0.0063 - mse: 0.0063 - val_loss: 0.0025 - val_mse: 0.0025 - 247ms/epoch - 4ms/step\n",
      "Epoch 82/100\n",
      "63/63 - 0s - loss: 0.0064 - mse: 0.0064 - val_loss: 0.0021 - val_mse: 0.0021 - 249ms/epoch - 4ms/step\n",
      "Epoch 83/100\n",
      "63/63 - 0s - loss: 0.0063 - mse: 0.0063 - val_loss: 0.0018 - val_mse: 0.0018 - 247ms/epoch - 4ms/step\n",
      "Epoch 84/100\n",
      "63/63 - 0s - loss: 0.0063 - mse: 0.0063 - val_loss: 0.0019 - val_mse: 0.0019 - 250ms/epoch - 4ms/step\n",
      "Epoch 85/100\n",
      "63/63 - 0s - loss: 0.0064 - mse: 0.0064 - val_loss: 0.0031 - val_mse: 0.0031 - 250ms/epoch - 4ms/step\n",
      "Epoch 86/100\n",
      "63/63 - 0s - loss: 0.0063 - mse: 0.0063 - val_loss: 0.0022 - val_mse: 0.0022 - 249ms/epoch - 4ms/step\n",
      "Epoch 87/100\n",
      "63/63 - 0s - loss: 0.0064 - mse: 0.0064 - val_loss: 0.0035 - val_mse: 0.0035 - 255ms/epoch - 4ms/step\n",
      "Epoch 88/100\n",
      "63/63 - 0s - loss: 0.0067 - mse: 0.0067 - val_loss: 0.0019 - val_mse: 0.0019 - 283ms/epoch - 4ms/step\n",
      "Epoch 89/100\n",
      "63/63 - 0s - loss: 0.0065 - mse: 0.0065 - val_loss: 0.0030 - val_mse: 0.0030 - 250ms/epoch - 4ms/step\n",
      "Epoch 90/100\n",
      "63/63 - 0s - loss: 0.0065 - mse: 0.0065 - val_loss: 0.0027 - val_mse: 0.0027 - 251ms/epoch - 4ms/step\n",
      "Epoch 91/100\n",
      "63/63 - 0s - loss: 0.0064 - mse: 0.0064 - val_loss: 0.0018 - val_mse: 0.0018 - 249ms/epoch - 4ms/step\n",
      "Epoch 92/100\n",
      "63/63 - 0s - loss: 0.0067 - mse: 0.0067 - val_loss: 0.0013 - val_mse: 0.0013 - 251ms/epoch - 4ms/step\n",
      "Epoch 93/100\n",
      "63/63 - 0s - loss: 0.0065 - mse: 0.0065 - val_loss: 0.0022 - val_mse: 0.0022 - 262ms/epoch - 4ms/step\n",
      "Epoch 94/100\n",
      "63/63 - 0s - loss: 0.0063 - mse: 0.0063 - val_loss: 0.0022 - val_mse: 0.0022 - 254ms/epoch - 4ms/step\n",
      "Epoch 95/100\n",
      "63/63 - 0s - loss: 0.0065 - mse: 0.0065 - val_loss: 0.0016 - val_mse: 0.0016 - 248ms/epoch - 4ms/step\n",
      "Epoch 96/100\n",
      "63/63 - 0s - loss: 0.0065 - mse: 0.0065 - val_loss: 0.0034 - val_mse: 0.0034 - 274ms/epoch - 4ms/step\n",
      "Epoch 97/100\n",
      "63/63 - 0s - loss: 0.0067 - mse: 0.0067 - val_loss: 0.0036 - val_mse: 0.0036 - 256ms/epoch - 4ms/step\n",
      "Epoch 98/100\n",
      "63/63 - 0s - loss: 0.0067 - mse: 0.0067 - val_loss: 0.0020 - val_mse: 0.0020 - 251ms/epoch - 4ms/step\n",
      "Epoch 99/100\n",
      "63/63 - 0s - loss: 0.0067 - mse: 0.0067 - val_loss: 8.7882e-04 - val_mse: 8.7882e-04 - 253ms/epoch - 4ms/step\n",
      "Epoch 100/100\n",
      "63/63 - 0s - loss: 0.0061 - mse: 0.0061 - val_loss: 0.0018 - val_mse: 0.0018 - 255ms/epoch - 4ms/step\n"
     ]
    }
   ],
   "source": [
    "mseplot = model1.compile(loss='mean_squared_error', optimizer=opt, metrics=['mse'])\n",
    " \n",
    "mseplot = model1.fit(x_train, y_train, epochs = 100, batch_size=64, verbose=2, validation_data=(x_test, y_test))"
   ]
  },
  {
   "cell_type": "code",
   "execution_count": 639,
   "id": "05a4cb49",
   "metadata": {},
   "outputs": [
    {
     "name": "stdout",
     "output_type": "stream",
     "text": [
      "Epoch 1/100\n",
      "63/63 - 2s - loss: 0.0063 - rmse: 0.0792 - val_loss: 0.0033 - val_rmse: 0.0575 - 2s/epoch - 39ms/step\n",
      "Epoch 2/100\n",
      "63/63 - 0s - loss: 0.0061 - rmse: 0.0780 - val_loss: 0.0026 - val_rmse: 0.0507 - 226ms/epoch - 4ms/step\n",
      "Epoch 3/100\n",
      "63/63 - 0s - loss: 0.0063 - rmse: 0.0793 - val_loss: 0.0022 - val_rmse: 0.0470 - 235ms/epoch - 4ms/step\n",
      "Epoch 4/100\n",
      "63/63 - 0s - loss: 0.0064 - rmse: 0.0798 - val_loss: 0.0029 - val_rmse: 0.0542 - 234ms/epoch - 4ms/step\n",
      "Epoch 5/100\n",
      "63/63 - 0s - loss: 0.0062 - rmse: 0.0790 - val_loss: 0.0022 - val_rmse: 0.0470 - 234ms/epoch - 4ms/step\n",
      "Epoch 6/100\n",
      "63/63 - 0s - loss: 0.0066 - rmse: 0.0812 - val_loss: 0.0015 - val_rmse: 0.0393 - 235ms/epoch - 4ms/step\n",
      "Epoch 7/100\n",
      "63/63 - 0s - loss: 0.0064 - rmse: 0.0802 - val_loss: 0.0014 - val_rmse: 0.0372 - 238ms/epoch - 4ms/step\n",
      "Epoch 8/100\n",
      "63/63 - 0s - loss: 0.0063 - rmse: 0.0797 - val_loss: 0.0023 - val_rmse: 0.0481 - 235ms/epoch - 4ms/step\n",
      "Epoch 9/100\n",
      "63/63 - 0s - loss: 0.0066 - rmse: 0.0810 - val_loss: 0.0026 - val_rmse: 0.0506 - 239ms/epoch - 4ms/step\n",
      "Epoch 10/100\n",
      "63/63 - 0s - loss: 0.0063 - rmse: 0.0795 - val_loss: 0.0010 - val_rmse: 0.0324 - 238ms/epoch - 4ms/step\n",
      "Epoch 11/100\n",
      "63/63 - 0s - loss: 0.0065 - rmse: 0.0804 - val_loss: 0.0024 - val_rmse: 0.0490 - 238ms/epoch - 4ms/step\n",
      "Epoch 12/100\n",
      "63/63 - 0s - loss: 0.0063 - rmse: 0.0795 - val_loss: 0.0020 - val_rmse: 0.0451 - 241ms/epoch - 4ms/step\n",
      "Epoch 13/100\n",
      "63/63 - 0s - loss: 0.0064 - rmse: 0.0801 - val_loss: 0.0021 - val_rmse: 0.0461 - 239ms/epoch - 4ms/step\n",
      "Epoch 14/100\n",
      "63/63 - 0s - loss: 0.0062 - rmse: 0.0789 - val_loss: 0.0020 - val_rmse: 0.0445 - 242ms/epoch - 4ms/step\n",
      "Epoch 15/100\n",
      "63/63 - 0s - loss: 0.0065 - rmse: 0.0804 - val_loss: 0.0020 - val_rmse: 0.0451 - 239ms/epoch - 4ms/step\n",
      "Epoch 16/100\n",
      "63/63 - 0s - loss: 0.0062 - rmse: 0.0785 - val_loss: 0.0025 - val_rmse: 0.0501 - 240ms/epoch - 4ms/step\n",
      "Epoch 17/100\n",
      "63/63 - 0s - loss: 0.0060 - rmse: 0.0774 - val_loss: 0.0021 - val_rmse: 0.0462 - 243ms/epoch - 4ms/step\n",
      "Epoch 18/100\n",
      "63/63 - 0s - loss: 0.0062 - rmse: 0.0788 - val_loss: 0.0019 - val_rmse: 0.0433 - 240ms/epoch - 4ms/step\n",
      "Epoch 19/100\n",
      "63/63 - 0s - loss: 0.0061 - rmse: 0.0779 - val_loss: 0.0013 - val_rmse: 0.0355 - 240ms/epoch - 4ms/step\n",
      "Epoch 20/100\n",
      "63/63 - 0s - loss: 0.0065 - rmse: 0.0805 - val_loss: 0.0016 - val_rmse: 0.0396 - 242ms/epoch - 4ms/step\n",
      "Epoch 21/100\n",
      "63/63 - 0s - loss: 0.0066 - rmse: 0.0810 - val_loss: 0.0021 - val_rmse: 0.0459 - 247ms/epoch - 4ms/step\n",
      "Epoch 22/100\n",
      "63/63 - 0s - loss: 0.0063 - rmse: 0.0791 - val_loss: 0.0022 - val_rmse: 0.0465 - 245ms/epoch - 4ms/step\n",
      "Epoch 23/100\n",
      "63/63 - 0s - loss: 0.0063 - rmse: 0.0795 - val_loss: 0.0013 - val_rmse: 0.0366 - 245ms/epoch - 4ms/step\n",
      "Epoch 24/100\n",
      "63/63 - 0s - loss: 0.0060 - rmse: 0.0775 - val_loss: 0.0013 - val_rmse: 0.0356 - 245ms/epoch - 4ms/step\n",
      "Epoch 25/100\n",
      "63/63 - 0s - loss: 0.0064 - rmse: 0.0798 - val_loss: 0.0025 - val_rmse: 0.0495 - 246ms/epoch - 4ms/step\n",
      "Epoch 26/100\n",
      "63/63 - 0s - loss: 0.0061 - rmse: 0.0781 - val_loss: 0.0020 - val_rmse: 0.0450 - 247ms/epoch - 4ms/step\n",
      "Epoch 27/100\n",
      "63/63 - 0s - loss: 0.0063 - rmse: 0.0791 - val_loss: 0.0027 - val_rmse: 0.0515 - 247ms/epoch - 4ms/step\n",
      "Epoch 28/100\n",
      "63/63 - 0s - loss: 0.0063 - rmse: 0.0792 - val_loss: 0.0012 - val_rmse: 0.0341 - 249ms/epoch - 4ms/step\n",
      "Epoch 29/100\n",
      "63/63 - 0s - loss: 0.0060 - rmse: 0.0775 - val_loss: 0.0024 - val_rmse: 0.0487 - 247ms/epoch - 4ms/step\n",
      "Epoch 30/100\n",
      "63/63 - 0s - loss: 0.0061 - rmse: 0.0779 - val_loss: 0.0023 - val_rmse: 0.0482 - 250ms/epoch - 4ms/step\n",
      "Epoch 31/100\n",
      "63/63 - 0s - loss: 0.0061 - rmse: 0.0779 - val_loss: 0.0021 - val_rmse: 0.0456 - 246ms/epoch - 4ms/step\n",
      "Epoch 32/100\n",
      "63/63 - 0s - loss: 0.0059 - rmse: 0.0771 - val_loss: 0.0013 - val_rmse: 0.0360 - 248ms/epoch - 4ms/step\n",
      "Epoch 33/100\n",
      "63/63 - 0s - loss: 0.0059 - rmse: 0.0771 - val_loss: 0.0015 - val_rmse: 0.0392 - 249ms/epoch - 4ms/step\n",
      "Epoch 34/100\n",
      "63/63 - 0s - loss: 0.0063 - rmse: 0.0792 - val_loss: 0.0018 - val_rmse: 0.0421 - 248ms/epoch - 4ms/step\n",
      "Epoch 35/100\n",
      "63/63 - 0s - loss: 0.0064 - rmse: 0.0798 - val_loss: 0.0013 - val_rmse: 0.0366 - 251ms/epoch - 4ms/step\n",
      "Epoch 36/100\n",
      "63/63 - 0s - loss: 0.0062 - rmse: 0.0789 - val_loss: 0.0013 - val_rmse: 0.0358 - 282ms/epoch - 4ms/step\n",
      "Epoch 37/100\n",
      "63/63 - 0s - loss: 0.0062 - rmse: 0.0788 - val_loss: 0.0014 - val_rmse: 0.0380 - 258ms/epoch - 4ms/step\n",
      "Epoch 38/100\n",
      "63/63 - 0s - loss: 0.0063 - rmse: 0.0793 - val_loss: 0.0018 - val_rmse: 0.0419 - 249ms/epoch - 4ms/step\n",
      "Epoch 39/100\n",
      "63/63 - 0s - loss: 0.0059 - rmse: 0.0768 - val_loss: 0.0018 - val_rmse: 0.0426 - 247ms/epoch - 4ms/step\n",
      "Epoch 40/100\n",
      "63/63 - 0s - loss: 0.0064 - rmse: 0.0799 - val_loss: 0.0016 - val_rmse: 0.0398 - 247ms/epoch - 4ms/step\n",
      "Epoch 41/100\n",
      "63/63 - 0s - loss: 0.0061 - rmse: 0.0782 - val_loss: 0.0015 - val_rmse: 0.0388 - 249ms/epoch - 4ms/step\n",
      "Epoch 42/100\n",
      "63/63 - 0s - loss: 0.0062 - rmse: 0.0789 - val_loss: 0.0022 - val_rmse: 0.0473 - 249ms/epoch - 4ms/step\n",
      "Epoch 43/100\n",
      "63/63 - 0s - loss: 0.0061 - rmse: 0.0780 - val_loss: 0.0034 - val_rmse: 0.0584 - 251ms/epoch - 4ms/step\n",
      "Epoch 44/100\n",
      "63/63 - 0s - loss: 0.0066 - rmse: 0.0814 - val_loss: 0.0026 - val_rmse: 0.0513 - 247ms/epoch - 4ms/step\n",
      "Epoch 45/100\n",
      "63/63 - 0s - loss: 0.0057 - rmse: 0.0758 - val_loss: 0.0026 - val_rmse: 0.0514 - 257ms/epoch - 4ms/step\n",
      "Epoch 46/100\n",
      "63/63 - 0s - loss: 0.0068 - rmse: 0.0825 - val_loss: 0.0029 - val_rmse: 0.0543 - 250ms/epoch - 4ms/step\n",
      "Epoch 47/100\n",
      "63/63 - 0s - loss: 0.0063 - rmse: 0.0796 - val_loss: 0.0021 - val_rmse: 0.0457 - 253ms/epoch - 4ms/step\n",
      "Epoch 48/100\n",
      "63/63 - 0s - loss: 0.0060 - rmse: 0.0772 - val_loss: 0.0021 - val_rmse: 0.0454 - 252ms/epoch - 4ms/step\n",
      "Epoch 49/100\n",
      "63/63 - 0s - loss: 0.0063 - rmse: 0.0793 - val_loss: 0.0038 - val_rmse: 0.0614 - 254ms/epoch - 4ms/step\n",
      "Epoch 50/100\n",
      "63/63 - 0s - loss: 0.0061 - rmse: 0.0783 - val_loss: 0.0044 - val_rmse: 0.0666 - 255ms/epoch - 4ms/step\n",
      "Epoch 51/100\n",
      "63/63 - 0s - loss: 0.0060 - rmse: 0.0777 - val_loss: 0.0029 - val_rmse: 0.0537 - 252ms/epoch - 4ms/step\n",
      "Epoch 52/100\n",
      "63/63 - 0s - loss: 0.0062 - rmse: 0.0789 - val_loss: 0.0016 - val_rmse: 0.0405 - 253ms/epoch - 4ms/step\n",
      "Epoch 53/100\n",
      "63/63 - 0s - loss: 0.0064 - rmse: 0.0797 - val_loss: 0.0015 - val_rmse: 0.0385 - 255ms/epoch - 4ms/step\n",
      "Epoch 54/100\n",
      "63/63 - 0s - loss: 0.0061 - rmse: 0.0779 - val_loss: 0.0020 - val_rmse: 0.0447 - 254ms/epoch - 4ms/step\n",
      "Epoch 55/100\n",
      "63/63 - 0s - loss: 0.0058 - rmse: 0.0760 - val_loss: 0.0012 - val_rmse: 0.0345 - 254ms/epoch - 4ms/step\n",
      "Epoch 56/100\n",
      "63/63 - 0s - loss: 0.0067 - rmse: 0.0818 - val_loss: 0.0017 - val_rmse: 0.0410 - 262ms/epoch - 4ms/step\n",
      "Epoch 57/100\n",
      "63/63 - 0s - loss: 0.0060 - rmse: 0.0777 - val_loss: 0.0021 - val_rmse: 0.0460 - 255ms/epoch - 4ms/step\n",
      "Epoch 58/100\n",
      "63/63 - 0s - loss: 0.0063 - rmse: 0.0792 - val_loss: 0.0024 - val_rmse: 0.0492 - 254ms/epoch - 4ms/step\n",
      "Epoch 59/100\n",
      "63/63 - 0s - loss: 0.0061 - rmse: 0.0778 - val_loss: 0.0026 - val_rmse: 0.0512 - 254ms/epoch - 4ms/step\n",
      "Epoch 60/100\n",
      "63/63 - 0s - loss: 0.0063 - rmse: 0.0794 - val_loss: 0.0032 - val_rmse: 0.0565 - 256ms/epoch - 4ms/step\n",
      "Epoch 61/100\n",
      "63/63 - 0s - loss: 0.0060 - rmse: 0.0775 - val_loss: 0.0020 - val_rmse: 0.0448 - 258ms/epoch - 4ms/step\n",
      "Epoch 62/100\n",
      "63/63 - 0s - loss: 0.0056 - rmse: 0.0749 - val_loss: 0.0029 - val_rmse: 0.0536 - 256ms/epoch - 4ms/step\n",
      "Epoch 63/100\n",
      "63/63 - 0s - loss: 0.0065 - rmse: 0.0805 - val_loss: 0.0018 - val_rmse: 0.0425 - 258ms/epoch - 4ms/step\n",
      "Epoch 64/100\n",
      "63/63 - 0s - loss: 0.0065 - rmse: 0.0806 - val_loss: 0.0031 - val_rmse: 0.0560 - 259ms/epoch - 4ms/step\n",
      "Epoch 65/100\n",
      "63/63 - 0s - loss: 0.0060 - rmse: 0.0775 - val_loss: 0.0016 - val_rmse: 0.0402 - 260ms/epoch - 4ms/step\n",
      "Epoch 66/100\n",
      "63/63 - 0s - loss: 0.0062 - rmse: 0.0785 - val_loss: 0.0022 - val_rmse: 0.0466 - 258ms/epoch - 4ms/step\n",
      "Epoch 67/100\n",
      "63/63 - 0s - loss: 0.0065 - rmse: 0.0805 - val_loss: 0.0014 - val_rmse: 0.0372 - 258ms/epoch - 4ms/step\n",
      "Epoch 68/100\n",
      "63/63 - 0s - loss: 0.0060 - rmse: 0.0772 - val_loss: 0.0027 - val_rmse: 0.0517 - 256ms/epoch - 4ms/step\n",
      "Epoch 69/100\n",
      "63/63 - 0s - loss: 0.0059 - rmse: 0.0768 - val_loss: 0.0022 - val_rmse: 0.0468 - 261ms/epoch - 4ms/step\n",
      "Epoch 70/100\n",
      "63/63 - 0s - loss: 0.0062 - rmse: 0.0786 - val_loss: 0.0021 - val_rmse: 0.0457 - 259ms/epoch - 4ms/step\n",
      "Epoch 71/100\n",
      "63/63 - 0s - loss: 0.0063 - rmse: 0.0795 - val_loss: 0.0020 - val_rmse: 0.0445 - 261ms/epoch - 4ms/step\n",
      "Epoch 72/100\n",
      "63/63 - 0s - loss: 0.0062 - rmse: 0.0785 - val_loss: 0.0026 - val_rmse: 0.0510 - 264ms/epoch - 4ms/step\n",
      "Epoch 73/100\n",
      "63/63 - 0s - loss: 0.0061 - rmse: 0.0778 - val_loss: 0.0011 - val_rmse: 0.0331 - 258ms/epoch - 4ms/step\n",
      "Epoch 74/100\n",
      "63/63 - 0s - loss: 0.0061 - rmse: 0.0778 - val_loss: 0.0022 - val_rmse: 0.0464 - 264ms/epoch - 4ms/step\n",
      "Epoch 75/100\n",
      "63/63 - 0s - loss: 0.0064 - rmse: 0.0801 - val_loss: 0.0017 - val_rmse: 0.0410 - 265ms/epoch - 4ms/step\n",
      "Epoch 76/100\n",
      "63/63 - 0s - loss: 0.0061 - rmse: 0.0782 - val_loss: 0.0020 - val_rmse: 0.0447 - 261ms/epoch - 4ms/step\n",
      "Epoch 77/100\n",
      "63/63 - 0s - loss: 0.0062 - rmse: 0.0787 - val_loss: 0.0019 - val_rmse: 0.0435 - 262ms/epoch - 4ms/step\n",
      "Epoch 78/100\n",
      "63/63 - 0s - loss: 0.0062 - rmse: 0.0787 - val_loss: 0.0018 - val_rmse: 0.0421 - 264ms/epoch - 4ms/step\n",
      "Epoch 79/100\n",
      "63/63 - 0s - loss: 0.0060 - rmse: 0.0775 - val_loss: 0.0010 - val_rmse: 0.0323 - 258ms/epoch - 4ms/step\n",
      "Epoch 80/100\n",
      "63/63 - 0s - loss: 0.0064 - rmse: 0.0798 - val_loss: 0.0017 - val_rmse: 0.0408 - 263ms/epoch - 4ms/step\n",
      "Epoch 81/100\n",
      "63/63 - 0s - loss: 0.0063 - rmse: 0.0794 - val_loss: 0.0019 - val_rmse: 0.0440 - 258ms/epoch - 4ms/step\n",
      "Epoch 82/100\n",
      "63/63 - 0s - loss: 0.0063 - rmse: 0.0796 - val_loss: 0.0022 - val_rmse: 0.0467 - 261ms/epoch - 4ms/step\n",
      "Epoch 83/100\n",
      "63/63 - 0s - loss: 0.0061 - rmse: 0.0783 - val_loss: 0.0026 - val_rmse: 0.0510 - 262ms/epoch - 4ms/step\n",
      "Epoch 84/100\n",
      "63/63 - 0s - loss: 0.0061 - rmse: 0.0779 - val_loss: 0.0018 - val_rmse: 0.0421 - 262ms/epoch - 4ms/step\n",
      "Epoch 85/100\n",
      "63/63 - 0s - loss: 0.0066 - rmse: 0.0810 - val_loss: 0.0023 - val_rmse: 0.0484 - 261ms/epoch - 4ms/step\n",
      "Epoch 86/100\n",
      "63/63 - 0s - loss: 0.0060 - rmse: 0.0776 - val_loss: 0.0015 - val_rmse: 0.0388 - 262ms/epoch - 4ms/step\n",
      "Epoch 87/100\n",
      "63/63 - 0s - loss: 0.0060 - rmse: 0.0777 - val_loss: 0.0025 - val_rmse: 0.0501 - 264ms/epoch - 4ms/step\n",
      "Epoch 88/100\n",
      "63/63 - 0s - loss: 0.0061 - rmse: 0.0783 - val_loss: 0.0019 - val_rmse: 0.0433 - 264ms/epoch - 4ms/step\n",
      "Epoch 89/100\n",
      "63/63 - 0s - loss: 0.0061 - rmse: 0.0783 - val_loss: 0.0012 - val_rmse: 0.0349 - 262ms/epoch - 4ms/step\n",
      "Epoch 90/100\n",
      "63/63 - 0s - loss: 0.0059 - rmse: 0.0767 - val_loss: 0.0029 - val_rmse: 0.0538 - 263ms/epoch - 4ms/step\n",
      "Epoch 91/100\n",
      "63/63 - 0s - loss: 0.0059 - rmse: 0.0768 - val_loss: 0.0023 - val_rmse: 0.0480 - 262ms/epoch - 4ms/step\n",
      "Epoch 92/100\n",
      "63/63 - 0s - loss: 0.0061 - rmse: 0.0779 - val_loss: 0.0026 - val_rmse: 0.0509 - 262ms/epoch - 4ms/step\n",
      "Epoch 93/100\n",
      "63/63 - 0s - loss: 0.0063 - rmse: 0.0793 - val_loss: 0.0025 - val_rmse: 0.0504 - 264ms/epoch - 4ms/step\n",
      "Epoch 94/100\n",
      "63/63 - 0s - loss: 0.0060 - rmse: 0.0776 - val_loss: 0.0020 - val_rmse: 0.0444 - 263ms/epoch - 4ms/step\n",
      "Epoch 95/100\n",
      "63/63 - 0s - loss: 0.0061 - rmse: 0.0783 - val_loss: 0.0015 - val_rmse: 0.0386 - 261ms/epoch - 4ms/step\n",
      "Epoch 96/100\n",
      "63/63 - 0s - loss: 0.0065 - rmse: 0.0805 - val_loss: 0.0015 - val_rmse: 0.0392 - 265ms/epoch - 4ms/step\n",
      "Epoch 97/100\n",
      "63/63 - 0s - loss: 0.0059 - rmse: 0.0767 - val_loss: 0.0016 - val_rmse: 0.0404 - 264ms/epoch - 4ms/step\n",
      "Epoch 98/100\n",
      "63/63 - 0s - loss: 0.0063 - rmse: 0.0792 - val_loss: 0.0023 - val_rmse: 0.0481 - 266ms/epoch - 4ms/step\n",
      "Epoch 99/100\n",
      "63/63 - 0s - loss: 0.0061 - rmse: 0.0783 - val_loss: 0.0015 - val_rmse: 0.0382 - 264ms/epoch - 4ms/step\n",
      "Epoch 100/100\n",
      "63/63 - 0s - loss: 0.0061 - rmse: 0.0780 - val_loss: 0.0021 - val_rmse: 0.0455 - 264ms/epoch - 4ms/step\n"
     ]
    }
   ],
   "source": [
    "model1.compile(loss='mse', optimizer=opt, metrics=[tf.keras.metrics.RootMeanSquaredError(name='rmse')])\n",
    "\n",
    "rmseplot = model1.fit(x_train, y_train, epochs = 100, batch_size=64, verbose=2, validation_data=(x_test, y_test))"
   ]
  },
  {
   "cell_type": "code",
   "execution_count": 640,
   "id": "891decaf",
   "metadata": {},
   "outputs": [
    {
     "name": "stdout",
     "output_type": "stream",
     "text": [
      "126/126 - 0s - loss: 0.0011 - rmse: 0.0328 - 168ms/epoch - 1ms/step\n",
      "Train Accuracy: 0.03278999775648117\n"
     ]
    }
   ],
   "source": [
    "score = model1.evaluate(x_train, y_train, batch_size = 32, verbose = 2)\n",
    "print('Train Accuracy:', score[1])"
   ]
  },
  {
   "cell_type": "markdown",
   "id": "f56484d9",
   "metadata": {},
   "source": [
    "# Tuning Test"
   ]
  },
  {
   "cell_type": "markdown",
   "id": "ce261b15",
   "metadata": {},
   "source": [
    "Membuat tuning test dari hasil model yang telah dibuat dengan menggunakan perbandingan yang lainnya"
   ]
  },
  {
   "cell_type": "code",
   "execution_count": 641,
   "id": "5323a006",
   "metadata": {},
   "outputs": [
    {
     "name": "stdout",
     "output_type": "stream",
     "text": [
      "Shape x_train: (4012, 1, 15)\n",
      "Shape y_train: (4012,)\n",
      "Timesteps: 1\n",
      "Features: 15\n"
     ]
    }
   ],
   "source": [
    "print(\"Shape x_train:\", x_train.shape)\n",
    "# Output: (jumlah_sampel, timesteps, features)\n",
    "\n",
    "# Misalkan y_train adalah dataset target\n",
    "print(\"Shape y_train:\", y_train.shape)\n",
    "# Output: (jumlah_sampel,)\n",
    "\n",
    "# Ambil nilai timesteps dari x_train\n",
    "timesteps = x_train.shape[1]\n",
    "print(\"Timesteps:\", timesteps)\n",
    "\n",
    "# Ambil nilai features dari x_train\n",
    "features = x_train.shape[2]\n",
    "print(\"Features:\", features)\n"
   ]
  },
  {
   "cell_type": "code",
   "execution_count": 644,
   "id": "9d0c1641",
   "metadata": {},
   "outputs": [
    {
     "name": "stderr",
     "output_type": "stream",
     "text": [
      "C:\\Users\\Lenovo\\AppData\\Local\\Temp\\ipykernel_11824\\3761055048.py:20: DeprecationWarning: KerasClassifier is deprecated, use Sci-Keras (https://github.com/adriangb/scikeras) instead. See https://www.adriangb.com/scikeras/stable/migration.html for help migrating.\n",
      "  model = KerasClassifier(build_fn=create_model)\n"
     ]
    },
    {
     "name": "stdout",
     "output_type": "stream",
     "text": [
      "101/101 [==============================] - 3s 3ms/step - loss: -8772.4023 - accuracy: 3.1162e-04\n",
      "26/26 [==============================] - 1s 2ms/step - loss: -132.8752 - accuracy: 0.3437\n",
      "101/101 [==============================] - 4s 3ms/step - loss: 16351.4736 - accuracy: 3.1162e-04\n",
      "26/26 [==============================] - 1s 2ms/step - loss: 15577.3359 - accuracy: 0.0000e+00\n",
      "101/101 [==============================] - 3s 3ms/step - loss: 16894.9805 - accuracy: 3.1153e-04\n",
      "26/26 [==============================] - 1s 2ms/step - loss: 13166.9062 - accuracy: 0.0000e+00\n",
      "101/101 [==============================] - 3s 3ms/step - loss: 16442.5840 - accuracy: 3.1153e-04\n",
      "26/26 [==============================] - 1s 2ms/step - loss: 21143.8926 - accuracy: 0.0000e+00\n",
      "101/101 [==============================] - 3s 3ms/step - loss: 15494.5977 - accuracy: 3.1153e-04\n",
      "26/26 [==============================] - 1s 2ms/step - loss: 29459.0215 - accuracy: 0.0000e+00\n",
      "101/101 [==============================] - 3s 3ms/step - loss: 14755.0840 - accuracy: 3.1162e-04\n",
      "26/26 [==============================] - 1s 2ms/step - loss: 285.8898 - accuracy: 0.4745\n",
      "101/101 [==============================] - 4s 3ms/step - loss: -11211.2812 - accuracy: 3.1162e-04\n",
      "26/26 [==============================] - 1s 2ms/step - loss: -14698.8564 - accuracy: 0.0000e+00\n",
      "101/101 [==============================] - 3s 3ms/step - loss: 16894.9785 - accuracy: 3.1153e-04\n",
      "26/26 [==============================] - 1s 2ms/step - loss: 13166.9062 - accuracy: 0.0000e+00\n",
      "101/101 [==============================] - 3s 4ms/step - loss: -9131.6104 - accuracy: 3.1153e-04\n",
      "26/26 [==============================] - 1s 3ms/step - loss: -20887.7910 - accuracy: 0.0000e+00\n",
      "101/101 [==============================] - 4s 4ms/step - loss: -8979.4590 - accuracy: 3.1153e-04\n",
      "26/26 [==============================] - 1s 2ms/step - loss: -29108.1875 - accuracy: 0.0000e+00\n",
      "101/101 [==============================] - 4s 5ms/step - loss: -10914.2881 - accuracy: 3.1162e-04\n",
      "26/26 [==============================] - 1s 3ms/step - loss: -129.7475 - accuracy: 0.3848\n",
      "101/101 [==============================] - 4s 4ms/step - loss: -4388.7676 - accuracy: 3.1162e-04\n",
      "26/26 [==============================] - 1s 2ms/step - loss: -14837.7705 - accuracy: 0.0000e+00\n",
      "101/101 [==============================] - 3s 4ms/step - loss: 16894.9824 - accuracy: 3.1153e-04\n",
      "26/26 [==============================] - 1s 2ms/step - loss: 13166.9062 - accuracy: 0.0000e+00\n",
      "101/101 [==============================] - 3s 4ms/step - loss: -6852.0811 - accuracy: 3.1153e-04\n",
      "26/26 [==============================] - 1s 2ms/step - loss: -20887.7910 - accuracy: 0.0000e+00\n",
      "101/101 [==============================] - 3s 4ms/step - loss: -10381.8965 - accuracy: 3.1153e-04\n",
      "26/26 [==============================] - 1s 2ms/step - loss: -29108.1875 - accuracy: 0.0000e+00\n",
      "101/101 [==============================] - 3s 3ms/step - loss: 14755.0879 - accuracy: 3.1162e-04\n",
      "26/26 [==============================] - 1s 2ms/step - loss: 285.8898 - accuracy: 0.4745\n",
      "101/101 [==============================] - 4s 3ms/step - loss: 16351.4727 - accuracy: 3.1162e-04\n",
      "26/26 [==============================] - 1s 2ms/step - loss: 15577.3359 - accuracy: 0.0000e+00\n",
      "101/101 [==============================] - 3s 3ms/step - loss: 16894.9805 - accuracy: 3.1153e-04\n",
      "26/26 [==============================] - 1s 2ms/step - loss: 13166.9062 - accuracy: 0.0000e+00\n",
      "101/101 [==============================] - 3s 3ms/step - loss: -3874.8118 - accuracy: 3.1153e-04\n",
      "26/26 [==============================] - 1s 2ms/step - loss: -13225.1064 - accuracy: 0.0000e+00\n",
      "101/101 [==============================] - 3s 3ms/step - loss: 15494.5996 - accuracy: 3.1153e-04\n",
      "26/26 [==============================] - 1s 2ms/step - loss: 29459.0215 - accuracy: 0.0000e+00\n",
      "101/101 [==============================] - 3s 4ms/step - loss: -9944.9756 - accuracy: 6.2325e-04\n",
      "26/26 [==============================] - 1s 2ms/step - loss: -80.6549 - accuracy: 0.3861\n",
      "101/101 [==============================] - 4s 3ms/step - loss: 16351.4756 - accuracy: 3.1162e-04\n",
      "26/26 [==============================] - 1s 2ms/step - loss: 15577.3359 - accuracy: 0.0000e+00\n",
      "101/101 [==============================] - 4s 4ms/step - loss: -13137.8066 - accuracy: 3.1153e-04\n",
      "26/26 [==============================] - 1s 2ms/step - loss: -13001.6670 - accuracy: 0.0000e+00\n",
      "101/101 [==============================] - 3s 4ms/step - loss: -6611.8965 - accuracy: 3.1153e-04\n",
      "26/26 [==============================] - 1s 2ms/step - loss: -20887.7910 - accuracy: 0.0000e+00\n",
      "101/101 [==============================] - 3s 4ms/step - loss: -9862.0801 - accuracy: 3.1153e-04\n",
      "26/26 [==============================] - 1s 2ms/step - loss: -29108.1875 - accuracy: 0.0000e+00\n",
      "101/101 [==============================] - 3s 5ms/step - loss: 14755.0840 - accuracy: 3.1162e-04\n",
      "26/26 [==============================] - 1s 2ms/step - loss: 285.8898 - accuracy: 0.4745\n",
      "101/101 [==============================] - 5s 5ms/step - loss: -12847.9082 - accuracy: 3.1162e-04\n",
      "26/26 [==============================] - 1s 2ms/step - loss: -15384.6396 - accuracy: 0.0000e+00\n",
      "101/101 [==============================] - 3s 5ms/step - loss: -11974.4424 - accuracy: 3.1153e-04\n",
      "26/26 [==============================] - 1s 2ms/step - loss: -13001.6670 - accuracy: 0.0000e+00\n",
      "101/101 [==============================] - 3s 5ms/step - loss: -10508.5703 - accuracy: 3.1153e-04\n",
      "26/26 [==============================] - 1s 2ms/step - loss: -20887.7910 - accuracy: 0.0000e+00\n",
      "101/101 [==============================] - 3s 4ms/step - loss: -11764.1084 - accuracy: 3.1153e-04\n",
      "26/26 [==============================] - 1s 3ms/step - loss: -29108.1875 - accuracy: 0.0000e+00\n",
      "101/101 [==============================] - 2s 3ms/step - loss: -12058.4092 - accuracy: 3.1162e-04\n",
      "26/26 [==============================] - 0s 2ms/step - loss: -151.3158 - accuracy: 0.0772\n",
      "101/101 [==============================] - 2s 3ms/step - loss: 16351.4756 - accuracy: 3.1162e-04\n",
      "26/26 [==============================] - 2s 2ms/step - loss: 15577.3359 - accuracy: 0.0000e+00\n",
      "101/101 [==============================] - 2s 3ms/step - loss: -14419.7295 - accuracy: 6.2305e-04\n",
      "26/26 [==============================] - 0s 3ms/step - loss: -13001.6670 - accuracy: 0.0000e+00\n",
      "101/101 [==============================] - 2s 3ms/step - loss: 16442.5820 - accuracy: 3.1153e-04\n",
      "26/26 [==============================] - 0s 2ms/step - loss: 21143.8926 - accuracy: 0.0000e+00\n",
      "101/101 [==============================] - 2s 3ms/step - loss: 15494.5996 - accuracy: 3.1153e-04\n",
      "26/26 [==============================] - 0s 2ms/step - loss: 29459.0215 - accuracy: 0.0000e+00\n",
      "101/101 [==============================] - 2s 3ms/step - loss: -13077.4121 - accuracy: 3.1162e-04\n",
      "26/26 [==============================] - 0s 2ms/step - loss: -271.4643 - accuracy: 0.0772\n",
      "101/101 [==============================] - 2s 3ms/step - loss: 16351.4766 - accuracy: 3.1162e-04\n",
      "26/26 [==============================] - 0s 2ms/step - loss: 15577.3359 - accuracy: 0.0000e+00\n",
      "101/101 [==============================] - 2s 3ms/step - loss: -12921.9189 - accuracy: 6.2305e-04\n",
      "26/26 [==============================] - 0s 2ms/step - loss: -13001.6670 - accuracy: 0.0000e+00\n",
      "101/101 [==============================] - 2s 3ms/step - loss: 16442.5820 - accuracy: 3.1153e-04\n",
      "26/26 [==============================] - 1s 3ms/step - loss: 21143.8926 - accuracy: 0.0000e+00\n",
      "101/101 [==============================] - 2s 3ms/step - loss: 15494.6045 - accuracy: 3.1153e-04\n",
      "26/26 [==============================] - 2s 2ms/step - loss: 29459.0215 - accuracy: 0.0000e+00\n",
      "101/101 [==============================] - 2s 4ms/step - loss: -13504.1680 - accuracy: 3.1162e-04\n",
      "26/26 [==============================] - 0s 2ms/step - loss: -267.3839 - accuracy: 0.0772\n",
      "101/101 [==============================] - 2s 4ms/step - loss: -14019.9512 - accuracy: 6.2325e-04\n",
      "26/26 [==============================] - 0s 2ms/step - loss: -15384.6396 - accuracy: 0.0000e+00\n",
      "101/101 [==============================] - 2s 4ms/step - loss: -16680.6465 - accuracy: 6.2305e-04\n",
      "26/26 [==============================] - 0s 2ms/step - loss: -13001.6670 - accuracy: 0.0000e+00\n",
      "101/101 [==============================] - 2s 4ms/step - loss: -15241.0352 - accuracy: 6.2305e-04\n",
      "26/26 [==============================] - 0s 2ms/step - loss: -20887.7910 - accuracy: 0.0000e+00\n",
      "101/101 [==============================] - 2s 4ms/step - loss: -14207.2871 - accuracy: 6.2305e-04\n",
      "26/26 [==============================] - 0s 2ms/step - loss: -29108.1875 - accuracy: 0.0000e+00\n",
      "101/101 [==============================] - 2s 3ms/step - loss: -12042.0576 - accuracy: 3.1162e-04\n",
      "26/26 [==============================] - 0s 2ms/step - loss: -270.9452 - accuracy: 0.0772\n",
      "101/101 [==============================] - 2s 3ms/step - loss: 16351.4775 - accuracy: 3.1162e-04\n",
      "26/26 [==============================] - 0s 2ms/step - loss: 15577.3359 - accuracy: 0.0000e+00\n",
      "101/101 [==============================] - 2s 3ms/step - loss: 16894.9824 - accuracy: 3.1153e-04\n",
      "26/26 [==============================] - 0s 2ms/step - loss: 13166.9062 - accuracy: 0.0000e+00\n",
      "101/101 [==============================] - 2s 3ms/step - loss: -14506.7354 - accuracy: 6.2305e-04\n",
      "26/26 [==============================] - 0s 2ms/step - loss: -20887.7910 - accuracy: 0.0000e+00\n",
      "101/101 [==============================] - 2s 3ms/step - loss: -11201.0605 - accuracy: 6.2305e-04\n",
      "26/26 [==============================] - 0s 2ms/step - loss: -29108.1875 - accuracy: 0.0000e+00\n",
      "101/101 [==============================] - 2s 3ms/step - loss: 14755.0889 - accuracy: 3.1162e-04\n",
      "26/26 [==============================] - 0s 2ms/step - loss: 285.8898 - accuracy: 0.4745\n",
      "101/101 [==============================] - 2s 3ms/step - loss: 16351.4775 - accuracy: 3.1162e-04\n",
      "26/26 [==============================] - 1s 2ms/step - loss: 15577.3359 - accuracy: 0.0000e+00\n",
      "101/101 [==============================] - 3s 3ms/step - loss: -15694.9287 - accuracy: 6.2305e-04\n",
      "26/26 [==============================] - 0s 2ms/step - loss: -13001.6670 - accuracy: 0.0000e+00\n",
      "101/101 [==============================] - 2s 3ms/step - loss: -9649.2939 - accuracy: 9.3458e-04\n",
      "26/26 [==============================] - 0s 2ms/step - loss: -20887.7910 - accuracy: 0.0000e+00\n",
      "101/101 [==============================] - 2s 3ms/step - loss: 15494.6016 - accuracy: 3.1153e-04\n",
      "26/26 [==============================] - 0s 2ms/step - loss: 29459.0215 - accuracy: 0.0000e+00\n",
      "101/101 [==============================] - 3s 4ms/step - loss: -14028.3848 - accuracy: 3.1162e-04\n",
      "26/26 [==============================] - 0s 2ms/step - loss: -270.1251 - accuracy: 0.0772\n",
      "101/101 [==============================] - 3s 4ms/step - loss: 16351.4727 - accuracy: 3.1162e-04\n",
      "26/26 [==============================] - 0s 2ms/step - loss: 15577.3359 - accuracy: 0.0000e+00\n",
      "101/101 [==============================] - 3s 5ms/step - loss: -16033.8389 - accuracy: 6.2305e-04\n",
      "26/26 [==============================] - 1s 3ms/step - loss: -13001.6670 - accuracy: 0.0000e+00\n",
      "101/101 [==============================] - 3s 4ms/step - loss: 16442.5859 - accuracy: 3.1153e-04\n",
      "26/26 [==============================] - 0s 2ms/step - loss: 21143.8926 - accuracy: 0.0000e+00\n",
      "101/101 [==============================] - 2s 4ms/step - loss: -14687.8418 - accuracy: 6.2305e-04\n",
      "26/26 [==============================] - 0s 2ms/step - loss: -29108.1875 - accuracy: 0.0000e+00\n",
      "126/126 [==============================] - 3s 4ms/step - loss: -6754.9287 - accuracy: 2.4925e-04\n",
      "Parameter terbaik: {'activation': 'tanh', 'optimizer': 'adam', 'units': 100}\n",
      "Skor akurasi terbaik: 0.0948941469192505\n"
     ]
    }
   ],
   "source": [
    "import numpy as np\n",
    "from sklearn.model_selection import GridSearchCV\n",
    "from keras.models import Sequential\n",
    "from keras.layers import LSTM, Dense\n",
    "from keras.wrappers.scikit_learn import KerasClassifier\n",
    "\n",
    "# Placeholder values for timesteps and features\n",
    "timesteps = 1\n",
    "features = 15\n",
    "\n",
    "# Fungsi untuk membuat model LSTM\n",
    "def create_model(units=50, activation='tanh', optimizer='opt'):\n",
    "    model = Sequential()\n",
    "    model.add(LSTM(units=units, activation=activation, input_shape=(timesteps, features)))\n",
    "    model.add(Dense(1))\n",
    "    model.compile(loss='binary_crossentropy', optimizer=optimizer, metrics=['accuracy'])\n",
    "    return model\n",
    "\n",
    "# Membuat objek KerasClassifier\n",
    "model = KerasClassifier(build_fn=create_model)\n",
    "\n",
    "# Mendefinisikan hyperparameter yang ingin diuji\n",
    "param_grid = {\n",
    "    'units': [50, 100, 200],\n",
    "    'activation': ['tanh', 'sigmoid'],\n",
    "    'optimizer': ['adam', 'rmsprop']\n",
    "}\n",
    "\n",
    "# Membuat objek GridSearchCV\n",
    "grid_search = GridSearchCV(estimator=model, param_grid=param_grid, cv=5)\n",
    "\n",
    "# Melakukan proses tuning dengan fit\n",
    "grid_search.fit(x_train, y_train)\n",
    "\n",
    "# Menampilkan parameter terbaik\n",
    "print(\"Parameter terbaik:\", grid_search.best_params_)\n",
    "\n",
    "# Menampilkan skor akurasi terbaik\n",
    "print(\"Skor akurasi terbaik:\", grid_search.best_score_)"
   ]
  },
  {
   "cell_type": "markdown",
   "id": "a6852ce5",
   "metadata": {},
   "source": [
    "# Visualisasi Model LSTM"
   ]
  },
  {
   "cell_type": "code",
   "execution_count": 645,
   "id": "4f8b19c5",
   "metadata": {},
   "outputs": [
    {
     "name": "stdout",
     "output_type": "stream",
     "text": [
      "126/126 [==============================] - 1s 1ms/step\n",
      "31/31 [==============================] - 0s 2ms/step\n",
      "Train score: 0.07 RMSE\n",
      "Test score: 0.04 RMSE\n",
      "Train score: 0.01 MSE\n",
      "Train score: 0.00 MSE\n"
     ]
    }
   ],
   "source": [
    "train_predict = model1.predict(x_train)\n",
    "test_predict = model1.predict(x_test)\n",
    "\n",
    "\n",
    "# #invert prediksi\n",
    "\n",
    "train_predict = min_max_scaler.fit_transform(train_predict)\n",
    "y_train = min_max_scaler.inverse_transform([y_train])\n",
    "\n",
    "test_predict = min_max_scaler.inverse_transform(test_predict)\n",
    "y_test = min_max_scaler.inverse_transform([y_test])\n",
    "\n",
    "#kalkulasi untuk root mean squared error\n",
    "\n",
    "train_score = math.sqrt(mean_squared_error(y_train[0], train_predict[:,0]))\n",
    "print('Train score: %.2f RMSE' % (train_score))\n",
    "\n",
    "test_score = math.sqrt(mean_squared_error(y_test[0], test_predict[:,0]))\n",
    "print('Test score: %.2f RMSE' % (test_score))\n",
    "\n",
    "#hitung MSE\n",
    "train_score1 = mean_squared_error(y_train[0], train_predict[:,0])\n",
    "print('Train score: %.2f MSE' % (train_score1))\n",
    "\n",
    "test_score1 = mean_squared_error(y_test[0], test_predict[:,0])\n",
    "print('Train score: %.2f MSE' % (test_score1))"
   ]
  },
  {
   "cell_type": "code",
   "execution_count": 646,
   "id": "6095c982",
   "metadata": {},
   "outputs": [
    {
     "data": {
      "image/png": "[encoded data removed]",
      "text/plain": [
       "<Figure size 1080x576 with 1 Axes>"
      ]
     },
     "metadata": {
      "needs_background": "light"
     },
     "output_type": "display_data"
    }
   ],
   "source": [
    "#plotting untuk train prediction\n",
    "train_predict_plot = np.empty_like(dataset)\n",
    "train_predict_plot[:, :] = np.nan\n",
    "train_predict_plot[look_back:len(train_predict)+look_back, :] = train_predict\n",
    "\n",
    "# plotting untuk test prediction\n",
    "test_predict_plot = np.empty_like(dataset)\n",
    "test_predict_plot[:, :] = np.nan\n",
    "test_predict_plot[len(train_predict)+(look_back*2)+1:len(dataset)-1, :] = test_predict\n",
    "\n",
    "#plot\n",
    "plt.figure(figsize=(15, 8))\n",
    "plt.plot(min_max_scaler.inverse_transform(dataset), color='r', label='Real data')\n",
    "plt.plot(train_predict_plot, color='b', label='Predicted Train')\n",
    "plt.plot(test_predict_plot, color='black', label = 'Predicted Test')\n",
    "plt.xticks(size=15)\n",
    "plt.yticks(size=15)\n",
    "plt.xlabel(\"Jumlah per hari\", size=15)\n",
    "plt.ylabel(\"Jumlah total konfirmasi\", size=15)\n",
    "plt.legend(loc='best')\n",
    "plt.show()"
   ]
  },
  {
   "cell_type": "markdown",
   "id": "8a80bd50",
   "metadata": {},
   "source": [
    "# Kesimpulan"
   ]
  },
  {
   "cell_type": "markdown",
   "id": "c449671e",
   "metadata": {},
   "source": [
    "- Kami menggunakan dataset dari TLKM dengan tujuan untuk memprediksi saham.\n",
    "- Untuk melakukan prediksi, kami menggunakan algoritma LSTM (Long Short-Term Memory)\n",
    "- Pada bagian awal, kami menggunakan beberap kolom dalam membuat visualisasi data yaitu High, Open, Low, Close. Namun yang kami fokuskan pada penerapan algoritma ini, kami menggunakan kolom High saja.\n",
    "- Setelah itu membuat visualisasi antara data train dan test dari kolom high\n",
    "- Melakukan scaling data dan mengubah data ke matriks.\n",
    "- Membuat model lstm dengan menggunakan fungsi Squential(), activation: 'tanh' dengan optimizer menggunakan adam. Selain itu, kami menggunakan epochs:100 dan validasi datanya menggunakan x test dan y test\n",
    "- Mengevaluasi model dan menghasilkan Train Accuracy: 0.03278999775648117. Walaupun masih terbilang rendah namun kami juga melakukan tuning test untuk melihat parameter mana yang terbaik beserta . Dan setelah melakukan tuning test, parameter yang terbaik digunakan adalah tunh.\n",
    "- Membuat visualisasi model lstm dengan melakukan kalkulasi root mean squared error. Secara keseluruhan outputnya tidak mencapai 0 tapi setidaknya menurut kami output tersebut sudah cukup baik karena perbedaannya tidak sangat jauh untuk mendekati 0\n",
    "- Membuat plot untuk melihat visualisasi dari data asli dan data model lstm yang telah dibuat. Dari visualisasi tersebut, data yang dihasilkan tidak terlalu overfitting\n",
    "- Membuat visualisasi MSE dan RMSE pada setiap epochs\n",
    "\n",
    "- Menurut kami untuk penerapan LSTM cukup baik digunakan karena menghasilkan data yang baik pula. Walaupun masih ada beberapa output yang belum sepenuhnya memenuhi, tetapi dapat diterapkan karena melakukan tuning test juga sehingga dapat lebih mengetahui dengan jelas apakah model yang diterapkan sudah baik untuk digunakan atau tidak"
   ]
  },
  {
   "cell_type": "code",
   "execution_count": null,
   "id": "99380ba8",
   "metadata": {},
   "outputs": [],
   "source": []
  }
 ],
 "metadata": {
  "kernelspec": {
   "display_name": "Python 3 (ipykernel)",
   "language": "python",
   "name": "python3"
  },
  "language_info": {
   "codemirror_mode": {
    "name": "ipython",
    "version": 3
   },
   "file_extension": ".py",
   "mimetype": "text/x-python",
   "name": "python",
   "nbconvert_exporter": "python",
   "pygments_lexer": "ipython3",
   "version": "3.9.12"
  }
 },
 "nbformat": 4,
 "nbformat_minor": 5
}
